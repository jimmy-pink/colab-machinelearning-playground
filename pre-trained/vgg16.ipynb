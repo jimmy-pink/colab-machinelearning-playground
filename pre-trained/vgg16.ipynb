{
  "cells": [
    {
      "cell_type": "markdown",
      "metadata": {
        "id": "view-in-github",
        "colab_type": "text"
      },
      "source": [
        "<a href=\"https://colab.research.google.com/github/jimmy-pink/colab-playground/blob/main/pre-trained/vgg16.ipynb\" target=\"_parent\"><img src=\"https://colab.research.google.com/assets/colab-badge.svg\" alt=\"Open In Colab\"/></a>"
      ]
    },
    {
      "cell_type": "markdown",
      "source": [
        "## 使用VGG16预训练模型"
      ],
      "metadata": {
        "id": "tB-8AfBxcBhb"
      },
      "id": "tB-8AfBxcBhb"
    },
    {
      "cell_type": "markdown",
      "source": [
        "### 需求描述\n",
        "有一批约800张文件夹图标的png图片，需要将这批图片分类：  \n",
        "\n",
        "- 按形状分\n",
        "  - 标准\n",
        "  - 折叠1\n",
        "  - 折叠2\n",
        "  - 折叠3\n",
        "  - 折叠4\n",
        "  - 长方形-长\n",
        "  - 长方形-短\n",
        "  - 文件堆叠\n",
        "\n",
        "- 按用途\n",
        "  - 仅纯净背景\n",
        "  - 带有前置主体对象的图标"
      ],
      "metadata": {
        "id": "QfsLK6aZdWHS"
      },
      "id": "QfsLK6aZdWHS"
    },
    {
      "cell_type": "markdown",
      "source": [
        "### 面临挑战\n",
        "\n",
        "按用途分类时的挑战\n",
        "1. 许多被标记为纯净的图案实际并不纯净， 上面一般会有均匀的形状 纹理点缀\n",
        "2. 有的形状较为特征， 为半折叠的文件 如图片，这种作为纯净背景时，主体一般镶嵌在中间，如何让机器理解这类图片哪种是纯净，哪种是已镶嵌好像有点困难"
      ],
      "metadata": {
        "id": "8f-SWc3VwImo"
      },
      "id": "8f-SWc3VwImo"
    },
    {
      "metadata": {
        "id": "c6a26871a008ac5d"
      },
      "cell_type": "code",
      "outputs": [],
      "execution_count": null,
      "source": [
        "!pip install tensorflow==2.16.2 matplotlib==3.9.1\n",
        "import numpy as np\n",
        "import matplotlib.pyplot as plt\n",
        "from tensorflow.keras.applications import VGG16\n",
        "from tensorflow.keras.models import Sequential\n",
        "from tensorflow.keras.layers import Dense, Flatten\n",
        "from tensorflow.keras.preprocessing.image import ImageDataGenerator"
      ],
      "id": "c6a26871a008ac5d"
    },
    {
      "cell_type": "code",
      "source": [
        "base_model = VGG16(weights='imagenet', include_top=False, input_shape=(224, 224, 3))\n",
        "\n",
        "# Freeze the base model layers\n",
        "for layer in base_model.layers:\n",
        "    layer.trainable = False"
      ],
      "metadata": {
        "id": "SlDL8fAucKzM"
      },
      "id": "SlDL8fAucKzM",
      "execution_count": null,
      "outputs": []
    }
  ],
  "metadata": {
    "kernelspec": {
      "display_name": "Python 3",
      "language": "python",
      "name": "python3"
    },
    "language_info": {
      "codemirror_mode": {
        "name": "ipython",
        "version": 2
      },
      "file_extension": ".py",
      "mimetype": "text/x-python",
      "name": "python",
      "nbconvert_exporter": "python",
      "pygments_lexer": "ipython2",
      "version": "2.7.6"
    },
    "colab": {
      "provenance": [],
      "include_colab_link": true
    }
  },
  "nbformat": 4,
  "nbformat_minor": 5
}