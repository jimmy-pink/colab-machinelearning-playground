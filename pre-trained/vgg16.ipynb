{
  "cells": [
    {
      "cell_type": "markdown",
      "metadata": {
        "id": "view-in-github",
        "colab_type": "text"
      },
      "source": [
        "<a href=\"https://colab.research.google.com/github/jimmy-pink/colab-playground/blob/main/pre-trained/vgg16.ipynb\" target=\"_parent\"><img src=\"https://colab.research.google.com/assets/colab-badge.svg\" alt=\"Open In Colab\"/></a>"
      ]
    },
    {
      "cell_type": "markdown",
      "source": [
        "## 使用VGG16预训练模型"
      ],
      "metadata": {
        "id": "tB-8AfBxcBhb"
      },
      "id": "tB-8AfBxcBhb"
    },
    {
      "cell_type": "markdown",
      "source": [
        "### 需求描述\n",
        "\n",
        "[💾 Google Drive：训练数据集](https://drive.google.com/drive/folders/1xwtf91GSyeIc7ohpCKsDCYv3zXgKa0sf)\n",
        "\n",
        "有一批约800张文件夹图标的png图片，需要将这批图片分类：  \n",
        "\n",
        "- 按形状分\n",
        "  - 标准\n",
        "  - 折叠1\n",
        "  - 折叠2\n",
        "  - 折叠3\n",
        "  - 折叠4\n",
        "  - 长方形-长\n",
        "  - 长方形-短\n",
        "  - 文件堆叠\n",
        "\n",
        "简化问题：只分两种： 标准文件夹样式，  其他   \n",
        "简化的二分类问题，也能够从大批量爬取图片中筛选较为优质的图标"
      ],
      "metadata": {
        "id": "QfsLK6aZdWHS"
      },
      "id": "QfsLK6aZdWHS"
    },
    {
      "cell_type": "markdown",
      "source": [
        "#### 迭代训练（Iterative Training） + 主动学习（Active Learning）\n",
        "\n",
        "主动学习（Active Learning）\n",
        "\n",
        "- 核心思想：模型主动选择“最有价值”的数据（通常是难以分类的样本）进行标注，而非随机标注。\n",
        "- 模型通过预测筛选出 False Positive（FP） 和 False Negative（FN） 的样本（即错误预测数据），人工修正标签后重新训练，属于主动学习的典型应用。\n",
        "\n",
        "\n",
        "Bootstrapping（自举法）\n",
        "\n",
        "- 通过迭代训练逐步提升模型性能，每一轮用当前模型预测未标注数据，筛选高置信度或易错样本加入训练集。\n",
        "\n",
        "课程学习（Curriculum Learning）\n",
        "- 从简单样本（少量初始数据）开始训练，逐步加入更难样本（错误预测数据）。"
      ],
      "metadata": {
        "id": "8f-SWc3VwImo"
      },
      "id": "8f-SWc3VwImo"
    },
    {
      "metadata": {
        "id": "c6a26871a008ac5d"
      },
      "cell_type": "code",
      "outputs": [],
      "execution_count": 1,
      "source": [
        "import numpy as np\n",
        "import matplotlib.pyplot as plt\n",
        "from tensorflow.keras.applications import VGG16\n",
        "from tensorflow.keras.models import Sequential\n",
        "from tensorflow.keras.layers import Dense, Flatten, Dropout\n",
        "from tensorflow.keras.preprocessing.image import ImageDataGenerator\n",
        "from tensorflow.keras.callbacks import Callback\n",
        "from tensorflow.keras import regularizers\n",
        "from tensorflow.keras.preprocessing import image\n",
        "from tensorflow.keras.applications.vgg16 import preprocess_input\n",
        "\n",
        "import os\n",
        "import shutil"
      ],
      "id": "c6a26871a008ac5d"
    },
    {
      "cell_type": "code",
      "source": [
        "from google.colab import drive\n",
        "drive.mount('/content/drive')\n",
        "\n",
        "# 挂载 Google Drive\n",
        "base_dir = '/content/drive/MyDrive/Google-AI-Studio/data/folder-icon-images/'  # Google Drive 中的图像文件夹路径\n",
        "train_dir=base_dir+'is_folder'\n",
        "drive_train_validate_dir = base_dir + \"train_validate\""
      ],
      "metadata": {
        "id": "x6jm---2fAQY",
        "outputId": "262f3281-794d-4200-f801-e6e4a4779e6a",
        "colab": {
          "base_uri": "https://localhost:8080/"
        }
      },
      "id": "x6jm---2fAQY",
      "execution_count": 2,
      "outputs": [
        {
          "output_type": "stream",
          "name": "stdout",
          "text": [
            "Drive already mounted at /content/drive; to attempt to forcibly remount, call drive.mount(\"/content/drive\", force_remount=True).\n"
          ]
        }
      ]
    },
    {
      "cell_type": "markdown",
      "source": [
        "## 识别标准文件夹的模型训练\n",
        "\n",
        "二分类问题  \n",
        "本模型负责判断一个图片是否是标准的文件夹形状"
      ],
      "metadata": {
        "id": "PTGqmhu8cRDD"
      },
      "id": "PTGqmhu8cRDD"
    },
    {
      "cell_type": "markdown",
      "source": [
        "### 准备数据"
      ],
      "metadata": {
        "id": "v932XdhsGFUb"
      },
      "id": "v932XdhsGFUb"
    },
    {
      "cell_type": "markdown",
      "source": [
        "### 数据处理与划分"
      ],
      "metadata": {
        "id": "R1zfnBjeeJSZ"
      },
      "id": "R1zfnBjeeJSZ"
    },
    {
      "cell_type": "code",
      "source": [
        "# 设置数据增强\n",
        "train_datagen = ImageDataGenerator(rescale=1./255,\n",
        "                                   horizontal_flip=True)\n",
        "\n",
        "# 使用 flow_from_directory 加载训练数据\n",
        "# 数据增强 + 归一化\n",
        "train_datagen = ImageDataGenerator(\n",
        "    rescale=1./255,\n",
        "    horizontal_flip=True,\n",
        "    validation_split=0.3  # 30% 作为验证集\n",
        ")\n",
        "\n",
        "# 训练集生成器\n",
        "train_generator = train_datagen.flow_from_directory(\n",
        "    train_dir,\n",
        "    target_size=(224, 224),  # VGG16 需要 224x224，将原图转成224*224\n",
        "    batch_size=32,\n",
        "    class_mode='binary',  # 二分类用 binary，多分类用 categorical\n",
        "    subset='training'  # 指定是训练集\n",
        ")\n",
        "\n",
        "# 验证集生成器\n",
        "validation_generator = train_datagen.flow_from_directory(\n",
        "    train_dir,\n",
        "    target_size=(224, 224),\n",
        "    batch_size=32,\n",
        "    class_mode='binary',\n",
        "    subset='validation'  # 指定是验证集\n",
        ")\n",
        "print(f\"找到的训练样本数: {train_generator.samples}\")\n",
        "print(f\"找到的验证样本数: {validation_generator.samples}\")\n",
        "images, labels = next(train_generator)\n",
        "print(\"图像形状:\", images.shape)  # 应为 (batch_size, 224, 224, 3)\n",
        "print(\"标签形状:\", labels.shape)"
      ],
      "metadata": {
        "id": "FL0_a5uGPuHz",
        "outputId": "b14dc5e6-9d46-4d69-f867-333ba2c3a8b0",
        "colab": {
          "base_uri": "https://localhost:8080/"
        }
      },
      "id": "FL0_a5uGPuHz",
      "execution_count": 3,
      "outputs": [
        {
          "output_type": "stream",
          "name": "stdout",
          "text": [
            "Found 798 images belonging to 2 classes.\n",
            "Found 341 images belonging to 2 classes.\n",
            "找到的训练样本数: 798\n",
            "找到的验证样本数: 341\n"
          ]
        },
        {
          "output_type": "stream",
          "name": "stderr",
          "text": [
            "/usr/local/lib/python3.11/dist-packages/PIL/Image.py:1043: UserWarning: Palette images with Transparency expressed in bytes should be converted to RGBA images\n",
            "  warnings.warn(\n"
          ]
        },
        {
          "output_type": "stream",
          "name": "stdout",
          "text": [
            "图像形状: (32, 224, 224, 3)\n",
            "标签形状: (32,)\n"
          ]
        }
      ]
    },
    {
      "cell_type": "markdown",
      "source": [
        "### 定义模型"
      ],
      "metadata": {
        "id": "jdUEtmYleYAf"
      },
      "id": "jdUEtmYleYAf"
    },
    {
      "cell_type": "code",
      "source": [
        "base_model = VGG16(weights='imagenet', include_top=False, input_shape=(224, 224, 3))\n",
        "\n",
        "# Freeze the base model layers\n",
        "for layer in base_model.layers:\n",
        "    layer.trainable = False"
      ],
      "metadata": {
        "id": "n3Ql62n-NJjL"
      },
      "id": "n3Ql62n-NJjL",
      "execution_count": 4,
      "outputs": []
    },
    {
      "cell_type": "code",
      "source": [
        "model = Sequential([\n",
        "    base_model,  # 假设你已经加载了预训练模型，如 VGG16\n",
        "    Flatten(),\n",
        "    Dense(1024, activation='relu',\n",
        "          kernel_regularizer=regularizers.l2(0.01)),  # 添加L2正则化\n",
        "    Dropout(0.5),  # 添加Dropout层，丢弃50%的神经元\n",
        "    Dense(1, activation='sigmoid')  # 最后一层对于二分类任务使用sigmoid激活\n",
        "])\n",
        "model.compile(optimizer='adam', loss='binary_crossentropy', metrics=['accuracy'])"
      ],
      "metadata": {
        "id": "Z1K6f98TO77l"
      },
      "id": "Z1K6f98TO77l",
      "execution_count": 5,
      "outputs": []
    },
    {
      "cell_type": "markdown",
      "source": [
        "### 模型训练"
      ],
      "metadata": {
        "id": "EF38zfbqeeWF"
      },
      "id": "EF38zfbqeeWF"
    },
    {
      "cell_type": "code",
      "source": [
        "class myCallback(Callback):\n",
        "    def on_epoch_end(self, epoch, logs={}):\n",
        "        if(logs.get('val_accuracy') >= 0.98 and logs.get('val_loss') < 0.2 ):\n",
        "            self.model.stop_training = True\n",
        "callbacks = myCallback()\n",
        "# 训练模型\n",
        "model.fit(train_generator,\n",
        "          epochs=100,\n",
        "          validation_data=validation_generator,\n",
        "          callbacks=[callbacks])"
      ],
      "metadata": {
        "id": "iPJtYJ0lTHol",
        "outputId": "99a22f75-641f-4417-dba8-b10bcf816a54",
        "colab": {
          "base_uri": "https://localhost:8080/"
        }
      },
      "id": "iPJtYJ0lTHol",
      "execution_count": 7,
      "outputs": [
        {
          "output_type": "stream",
          "name": "stdout",
          "text": [
            "Epoch 1/100\n",
            "\u001b[1m25/25\u001b[0m \u001b[32m━━━━━━━━━━━━━━━━━━━━\u001b[0m\u001b[37m\u001b[0m \u001b[1m11s\u001b[0m 441ms/step - accuracy: 1.0000 - loss: 0.1832 - val_accuracy: 1.0000 - val_loss: 0.1092\n"
          ]
        },
        {
          "output_type": "execute_result",
          "data": {
            "text/plain": [
              "<keras.src.callbacks.history.History at 0x7d612c62f990>"
            ]
          },
          "metadata": {},
          "execution_count": 7
        }
      ]
    },
    {
      "cell_type": "code",
      "source": [
        "# 可选： 模型保存\n",
        "save_dir = '/content/drive/MyDrive/Google-AI-Studio/saved_models'\n",
        "# 如果目录不存在，则创建\n",
        "if not os.path.exists(save_dir):\n",
        "    os.makedirs(save_dir)"
      ],
      "metadata": {
        "id": "EkTUm997Zzyx"
      },
      "id": "EkTUm997Zzyx",
      "execution_count": 8,
      "outputs": []
    },
    {
      "cell_type": "code",
      "source": [
        "model.save(f'{save_dir}/folder_icon_shape_isstandard_predict_model.h5')"
      ],
      "metadata": {
        "id": "KLiMdHzwaNU2",
        "outputId": "95542438-025a-48dd-d3a3-c0e1e7c90b6f",
        "colab": {
          "base_uri": "https://localhost:8080/"
        }
      },
      "id": "KLiMdHzwaNU2",
      "execution_count": 9,
      "outputs": [
        {
          "output_type": "stream",
          "name": "stderr",
          "text": [
            "WARNING:absl:You are saving your model as an HDF5 file via `model.save()` or `keras.saving.save_model(model)`. This file format is considered legacy. We recommend using instead the native Keras format, e.g. `model.save('my_model.keras')` or `keras.saving.save_model(model, 'my_model.keras')`. \n"
          ]
        }
      ]
    },
    {
      "cell_type": "markdown",
      "source": [
        "### 模型评估"
      ],
      "metadata": {
        "id": "VFoINygOeke5"
      },
      "id": "VFoINygOeke5"
    },
    {
      "cell_type": "markdown",
      "source": [
        "### 模型预测"
      ],
      "metadata": {
        "id": "8CDh1Z2-ehMA"
      },
      "id": "8CDh1Z2-ehMA"
    },
    {
      "cell_type": "code",
      "source": [
        "drive_test_dir = base_dir + \"test_is_folder\""
      ],
      "metadata": {
        "id": "5YhRMszWJLYu"
      },
      "id": "5YhRMszWJLYu",
      "execution_count": null,
      "outputs": []
    },
    {
      "cell_type": "code",
      "source": [
        "def predict_image(model, img_path):\n",
        "    # 1. 加载图片并调整为模型输入大小\n",
        "    img = image.load_img(img_path, target_size=(224, 224))  # 对图像进行大小调整\n",
        "    img_array = image.img_to_array(img)  # 转换为数组\n",
        "    img_array = np.expand_dims(img_array, axis=0)  # 增加一个维度，符合批量输入要求\n",
        "\n",
        "    # 2. 预处理图像（根据模型的预处理要求）\n",
        "    img_array = preprocess_input(img_array)  # 对图像进行预处理（适应VGG16的要求）\n",
        "\n",
        "    # 3. 使用模型进行预测\n",
        "    prediction = model.predict(img_array)  # 预测结果\n",
        "\n",
        "    # 4. 返回预测结果\n",
        "    return prediction"
      ],
      "metadata": {
        "id": "2EfVkJBwXK_Z"
      },
      "id": "2EfVkJBwXK_Z",
      "execution_count": null,
      "outputs": []
    },
    {
      "cell_type": "code",
      "source": [
        "# 使用模型进行预测\n",
        "for item in os.listdir(drive_test_dir):\n",
        "    item_path = os.path.join(drive_test_dir, item)\n",
        "    if os.path.isfile(item_path):\n",
        "        prediction = predict_image(model, item_path)  # 传递正确的路径\n",
        "        if prediction > 0.5:\n",
        "            # 输出预测结果\n",
        "            print(f\"{item_path} Prediction:\", prediction)"
      ],
      "metadata": {
        "id": "zToE4zqNWCVt",
        "outputId": "d8042cac-bbb7-4ce8-824a-98a939f9666d",
        "colab": {
          "base_uri": "https://localhost:8080/"
        }
      },
      "id": "zToE4zqNWCVt",
      "execution_count": null,
      "outputs": [
        {
          "output_type": "stream",
          "name": "stdout",
          "text": [
            "\u001b[1m1/1\u001b[0m \u001b[32m━━━━━━━━━━━━━━━━━━━━\u001b[0m\u001b[37m\u001b[0m \u001b[1m2s\u001b[0m 2s/step\n",
            "/content/drive/MyDrive/data/folder-icon-images/test_folder_recognition/test-1.png Prediction: [[1.]]\n",
            "\u001b[1m1/1\u001b[0m \u001b[32m━━━━━━━━━━━━━━━━━━━━\u001b[0m\u001b[37m\u001b[0m \u001b[1m0s\u001b[0m 36ms/step\n",
            "\u001b[1m1/1\u001b[0m \u001b[32m━━━━━━━━━━━━━━━━━━━━\u001b[0m\u001b[37m\u001b[0m \u001b[1m0s\u001b[0m 36ms/step\n",
            "\u001b[1m1/1\u001b[0m \u001b[32m━━━━━━━━━━━━━━━━━━━━\u001b[0m\u001b[37m\u001b[0m \u001b[1m0s\u001b[0m 35ms/step\n",
            "\u001b[1m1/1\u001b[0m \u001b[32m━━━━━━━━━━━━━━━━━━━━\u001b[0m\u001b[37m\u001b[0m \u001b[1m0s\u001b[0m 35ms/step\n",
            "/content/drive/MyDrive/data/folder-icon-images/test_folder_recognition/test-5.jpeg Prediction: [[1.]]\n",
            "\u001b[1m1/1\u001b[0m \u001b[32m━━━━━━━━━━━━━━━━━━━━\u001b[0m\u001b[37m\u001b[0m \u001b[1m0s\u001b[0m 42ms/step\n",
            "\u001b[1m1/1\u001b[0m \u001b[32m━━━━━━━━━━━━━━━━━━━━\u001b[0m\u001b[37m\u001b[0m \u001b[1m0s\u001b[0m 41ms/step\n",
            "\u001b[1m1/1\u001b[0m \u001b[32m━━━━━━━━━━━━━━━━━━━━\u001b[0m\u001b[37m\u001b[0m \u001b[1m0s\u001b[0m 51ms/step\n",
            "\u001b[1m1/1\u001b[0m \u001b[32m━━━━━━━━━━━━━━━━━━━━\u001b[0m\u001b[37m\u001b[0m \u001b[1m0s\u001b[0m 50ms/step\n",
            "\u001b[1m1/1\u001b[0m \u001b[32m━━━━━━━━━━━━━━━━━━━━\u001b[0m\u001b[37m\u001b[0m \u001b[1m0s\u001b[0m 43ms/step\n",
            "/content/drive/MyDrive/data/folder-icon-images/test_folder_recognition/book-folder-icon-18-256x256.png Prediction: [[1.]]\n",
            "\u001b[1m1/1\u001b[0m \u001b[32m━━━━━━━━━━━━━━━━━━━━\u001b[0m\u001b[37m\u001b[0m \u001b[1m0s\u001b[0m 42ms/step\n",
            "/content/drive/MyDrive/data/folder-icon-images/test_folder_recognition/book-folder-icon-23-256x256.png Prediction: [[1.]]\n",
            "\u001b[1m1/1\u001b[0m \u001b[32m━━━━━━━━━━━━━━━━━━━━\u001b[0m\u001b[37m\u001b[0m \u001b[1m0s\u001b[0m 42ms/step\n",
            "\u001b[1m1/1\u001b[0m \u001b[32m━━━━━━━━━━━━━━━━━━━━\u001b[0m\u001b[37m\u001b[0m \u001b[1m0s\u001b[0m 45ms/step\n",
            "/content/drive/MyDrive/data/folder-icon-images/test_folder_recognition/book-folder-icon-68-256x256.png Prediction: [[1.]]\n",
            "\u001b[1m1/1\u001b[0m \u001b[32m━━━━━━━━━━━━━━━━━━━━\u001b[0m\u001b[37m\u001b[0m \u001b[1m0s\u001b[0m 46ms/step\n",
            "\u001b[1m1/1\u001b[0m \u001b[32m━━━━━━━━━━━━━━━━━━━━\u001b[0m\u001b[37m\u001b[0m \u001b[1m0s\u001b[0m 41ms/step\n",
            "/content/drive/MyDrive/data/folder-icon-images/test_folder_recognition/book-folder-icon-25-256x256.png Prediction: [[1.]]\n"
          ]
        }
      ]
    },
    {
      "cell_type": "markdown",
      "source": [
        "现在 模型可以判断如些是标准的文件夹图片"
      ],
      "metadata": {
        "id": "D6wDP2BPeomP"
      },
      "id": "D6wDP2BPeomP"
    }
  ],
  "metadata": {
    "kernelspec": {
      "display_name": "Python 3",
      "name": "python3"
    },
    "language_info": {
      "codemirror_mode": {
        "name": "ipython",
        "version": 2
      },
      "file_extension": ".py",
      "mimetype": "text/x-python",
      "name": "python",
      "nbconvert_exporter": "python",
      "pygments_lexer": "ipython2",
      "version": "2.7.6"
    },
    "colab": {
      "provenance": [],
      "gpuType": "T4",
      "include_colab_link": true
    },
    "accelerator": "GPU"
  },
  "nbformat": 4,
  "nbformat_minor": 5
}