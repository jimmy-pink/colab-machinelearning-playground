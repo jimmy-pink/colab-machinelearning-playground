{
  "cells": [
    {
      "cell_type": "markdown",
      "metadata": {
        "id": "view-in-github",
        "colab_type": "text"
      },
      "source": [
        "<a href=\"https://colab.research.google.com/github/jimmy-pink/colab-playground/blob/main/pre-trained/ResNet50V2-FolderIconRecognition.ipynb\" target=\"_parent\"><img src=\"https://colab.research.google.com/assets/colab-badge.svg\" alt=\"Open In Colab\"/></a>"
      ]
    },
    {
      "cell_type": "markdown",
      "source": [
        "## 使用ResNet50V2微调以解决FolderIcon二分类问题"
      ],
      "metadata": {
        "id": "MZ_z4hUVN4Ls"
      },
      "id": "MZ_z4hUVN4Ls"
    },
    {
      "cell_type": "code",
      "execution_count": 2,
      "id": "initial_id",
      "metadata": {
        "collapsed": true,
        "id": "initial_id"
      },
      "outputs": [],
      "source": [
        "from tensorflow.keras.models import Model\n",
        "from tensorflow.keras.layers import Dense, GlobalAveragePooling2D, Dropout, Input\n",
        "from tensorflow.keras.optimizers import Adam"
      ]
    },
    {
      "cell_type": "markdown",
      "source": [
        "### 数据准备"
      ],
      "metadata": {
        "id": "hB6NfhjAOnSQ"
      },
      "id": "hB6NfhjAOnSQ"
    },
    {
      "cell_type": "code",
      "source": [
        "## 转存 https://drive.google.com/drive/folders/1xwtf91GSyeIc7ohpCKsDCYv3zXgKa0sf\n",
        "from google.colab import drive\n",
        "drive.mount('/content/drive')\n",
        "\n",
        "# 挂载 Google Drive\n",
        "base_dir = '/content/drive/MyDrive/Google AI Studio/data/folder-icon-images/'  # Google Drive 中的图像文件夹路径\n",
        "train_dir=base_dir+'is_folder'\n",
        "drive_train_validate_dir = base_dir + \"train_validate\""
      ],
      "metadata": {
        "id": "XaQ0f4XSOpG9",
        "outputId": "63603f31-5d93-45c5-8270-d59554dcf0b5",
        "colab": {
          "base_uri": "https://localhost:8080/"
        }
      },
      "id": "XaQ0f4XSOpG9",
      "execution_count": 3,
      "outputs": [
        {
          "output_type": "stream",
          "name": "stdout",
          "text": [
            "Drive already mounted at /content/drive; to attempt to forcibly remount, call drive.mount(\"/content/drive\", force_remount=True).\n"
          ]
        }
      ]
    },
    {
      "cell_type": "code",
      "source": [
        "from tensorflow.keras.preprocessing.image import ImageDataGenerator\n",
        "\n",
        "# 设置数据增强\n",
        "train_datagen = ImageDataGenerator(rescale=1./255,\n",
        "                                   horizontal_flip=True)\n",
        "\n",
        "# 使用 flow_from_directory 加载训练数据\n",
        "# 数据增强 + 归一化\n",
        "train_datagen = ImageDataGenerator(\n",
        "    rescale=1./255,\n",
        "    horizontal_flip=True,\n",
        "    validation_split=0.3  # 30% 作为验证集\n",
        ")\n",
        "\n",
        "# 训练集生成器\n",
        "train_generator = train_datagen.flow_from_directory(\n",
        "    train_dir,\n",
        "    target_size=(224, 224),\n",
        "    batch_size=32,\n",
        "    class_mode='binary',  # 二分类用 binary，多分类用 categorical\n",
        "    subset='training'  # 指定是训练集\n",
        ")\n",
        "\n",
        "# 验证集生成器\n",
        "validation_generator = train_datagen.flow_from_directory(\n",
        "    train_dir,\n",
        "    target_size=(224, 224),\n",
        "    batch_size=32,\n",
        "    class_mode='binary',\n",
        "    subset='validation'  # 指定是验证集\n",
        ")\n",
        "print(f\"找到的训练样本数: {train_generator.samples}\")\n",
        "print(f\"找到的验证样本数: {validation_generator.samples}\")\n",
        "images, labels = next(train_generator)\n",
        "print(\"图像形状:\", images.shape)\n",
        "print(\"标签形状:\", labels.shape)"
      ],
      "metadata": {
        "id": "jpOZX38aOt5Y",
        "outputId": "61f95e16-7157-49f2-e1b1-ae5cb2098584",
        "colab": {
          "base_uri": "https://localhost:8080/"
        }
      },
      "id": "jpOZX38aOt5Y",
      "execution_count": 4,
      "outputs": [
        {
          "output_type": "stream",
          "name": "stdout",
          "text": [
            "Found 1734 images belonging to 2 classes.\n",
            "Found 742 images belonging to 2 classes.\n",
            "找到的训练样本数: 1734\n",
            "找到的验证样本数: 742\n"
          ]
        },
        {
          "output_type": "stream",
          "name": "stderr",
          "text": [
            "/usr/local/lib/python3.11/dist-packages/PIL/Image.py:1043: UserWarning: Palette images with Transparency expressed in bytes should be converted to RGBA images\n",
            "  warnings.warn(\n"
          ]
        },
        {
          "output_type": "stream",
          "name": "stdout",
          "text": [
            "图像形状: (32, 224, 224, 3)\n",
            "标签形状: (32,)\n"
          ]
        }
      ]
    },
    {
      "cell_type": "code",
      "source": [
        "import numpy as np\n",
        "from sklearn.utils.class_weight import compute_class_weight\n",
        "# 获取训练集的真实标签（需确保 train_generator.classes 是整数标签 0/1）\n",
        "y_train = train_generator.classes\n",
        "# 计算类别权重（classes 需是 NumPy 数组）\n",
        "class_weights = compute_class_weight(\n",
        "    'balanced',\n",
        "    classes=np.unique(y_train),  # 自动提取唯一类别（如 [0, 1]）\n",
        "    y=y_train\n",
        ")\n",
        "# 转换为字典格式\n",
        "class_weights = {i: weight for i, weight in enumerate(class_weights)}\n",
        "print(\"类别权重:\", class_weights)"
      ],
      "metadata": {
        "id": "6o4opWbCRcPF",
        "outputId": "71af432d-9b91-432c-efa4-1147d47a0de2",
        "colab": {
          "base_uri": "https://localhost:8080/"
        }
      },
      "id": "6o4opWbCRcPF",
      "execution_count": 5,
      "outputs": [
        {
          "output_type": "stream",
          "name": "stdout",
          "text": [
            "类别权重: {0: np.float64(0.8442064264849075), 1: np.float64(1.2263083451202264)}\n"
          ]
        }
      ]
    },
    {
      "cell_type": "markdown",
      "source": [
        "### 建模"
      ],
      "metadata": {
        "id": "0UZNdpNmP3A3"
      },
      "id": "0UZNdpNmP3A3"
    },
    {
      "cell_type": "code",
      "source": [
        "from tensorflow.keras.applications import ResNet50V2\n",
        "from tensorflow.keras import layers, models\n",
        "\n",
        "base_model = ResNet50V2(\n",
        "    weights='imagenet',  # 使用预训练权重\n",
        "    include_top=False,   # 不包含顶层分类器\n",
        "    input_shape=(224, 224, 3)\n",
        ")\n",
        "\n",
        "\n",
        "# 冻结前 n% 的层\n",
        "freeze_until = int(len(base_model.layers) * 0.9)\n",
        "for i, layer in enumerate(base_model.layers):\n",
        "    layer.trainable = i >= freeze_until"
      ],
      "metadata": {
        "id": "33DpvkrOP5jz"
      },
      "id": "33DpvkrOP5jz",
      "execution_count": 11,
      "outputs": []
    },
    {
      "cell_type": "code",
      "source": [
        "import os\n",
        "save_dir = '/content/drive/MyDrive/Google AI Studio/saved_models'\n",
        "# 如果目录不存在，则创建\n",
        "if not os.path.exists(save_dir):\n",
        "    os.makedirs(save_dir)\n",
        "model_file_save_path = f'{save_dir}/ResNet50V2_folder_icon_shape_predict_model.h5'"
      ],
      "metadata": {
        "id": "jIo-5ToER1qf"
      },
      "id": "jIo-5ToER1qf",
      "execution_count": 12,
      "outputs": []
    },
    {
      "cell_type": "code",
      "source": [
        "from tensorflow.keras.models import Sequential\n",
        "from tensorflow.keras.optimizers import AdamW\n",
        "from tensorflow.keras import regularizers\n",
        "\n",
        "model = Sequential([\n",
        "    base_model,\n",
        "    layers.GlobalAveragePooling2D(),\n",
        "    layers.Dropout(0.7),\n",
        "    layers.Dense(126, activation='relu', kernel_regularizer=regularizers.l2(0.04)),\n",
        "    layers.Dropout(0.6),\n",
        "    layers.Dense(1, activation='sigmoid')  # 二分类输出\n",
        "])\n",
        "\n",
        "optimizer = AdamW(learning_rate=5e-5, weight_decay=1e-4)\n",
        "model.compile(\n",
        "    optimizer=optimizer,\n",
        "    loss='binary_crossentropy',\n",
        "    metrics=['accuracy']\n",
        ")"
      ],
      "metadata": {
        "id": "CzPCwwddRKj4"
      },
      "id": "CzPCwwddRKj4",
      "execution_count": 18,
      "outputs": []
    },
    {
      "cell_type": "code",
      "source": [
        "from tensorflow.keras.callbacks import Callback\n",
        "from tensorflow.keras.callbacks import EarlyStopping, ModelCheckpoint\n",
        "\n",
        "class myCallback(Callback):\n",
        "    def on_epoch_end(self, epoch, logs={}):\n",
        "        if(logs.get('val_accuracy') >= 0.98 and logs.get('val_loss') < 0.2 ):\n",
        "            self.model.stop_training = True\n",
        "\n",
        "callbacks = [\n",
        "    ModelCheckpoint(\n",
        "        model_file_save_path,\n",
        "        monitor='val_accuracy',  # 监控验证准确率\n",
        "        save_best_only=True,     # 只保留最佳\n",
        "        mode='max'               # 取最大值\n",
        "    ),\n",
        "    EarlyStopping(monitor='val_loss', patience=5),\n",
        "    myCallback()\n",
        "]\n",
        "\n",
        "history = model.fit(\n",
        "    train_generator,\n",
        "    epochs=20,\n",
        "    validation_data=validation_generator,\n",
        "    class_weight=class_weights,\n",
        "          verbose=1,\n",
        "          callbacks=callbacks\n",
        ")"
      ],
      "metadata": {
        "id": "7C6fYMK5RQoF",
        "outputId": "0b9cce26-980b-4190-cd9c-54bb5a489f4a",
        "colab": {
          "base_uri": "https://localhost:8080/"
        }
      },
      "id": "7C6fYMK5RQoF",
      "execution_count": 19,
      "outputs": [
        {
          "output_type": "stream",
          "name": "stdout",
          "text": [
            "Epoch 1/20\n",
            "\u001b[1m55/55\u001b[0m \u001b[32m━━━━━━━━━━━━━━━━━━━━\u001b[0m\u001b[37m\u001b[0m \u001b[1m0s\u001b[0m 280ms/step - accuracy: 0.7254 - loss: 9.9440"
          ]
        },
        {
          "output_type": "stream",
          "name": "stderr",
          "text": [
            "WARNING:absl:You are saving your model as an HDF5 file via `model.save()` or `keras.saving.save_model(model)`. This file format is considered legacy. We recommend using instead the native Keras format, e.g. `model.save('my_model.keras')` or `keras.saving.save_model(model, 'my_model.keras')`. \n"
          ]
        },
        {
          "output_type": "stream",
          "name": "stdout",
          "text": [
            "\b\b\b\b\b\b\b\b\b\b\b\b\b\b\b\b\b\b\b\b\b\b\b\b\b\b\b\b\b\b\b\b\b\b\b\b\b\b\b\b\b\b\b\b\b\b\b\b\b\b\b\b\b\b\b\b\b\b\b\b\b\b\b\b\b\b\b\b\b\b\b\b\b\b\r\u001b[1m55/55\u001b[0m \u001b[32m━━━━━━━━━━━━━━━━━━━━\u001b[0m\u001b[37m\u001b[0m \u001b[1m45s\u001b[0m 511ms/step - accuracy: 0.7274 - loss: 9.9353 - val_accuracy: 0.9447 - val_loss: 8.8670\n",
            "Epoch 2/20\n",
            "\u001b[1m55/55\u001b[0m \u001b[32m━━━━━━━━━━━━━━━━━━━━\u001b[0m\u001b[37m\u001b[0m \u001b[1m0s\u001b[0m 244ms/step - accuracy: 0.9342 - loss: 8.6400"
          ]
        },
        {
          "output_type": "stream",
          "name": "stderr",
          "text": [
            "WARNING:absl:You are saving your model as an HDF5 file via `model.save()` or `keras.saving.save_model(model)`. This file format is considered legacy. We recommend using instead the native Keras format, e.g. `model.save('my_model.keras')` or `keras.saving.save_model(model, 'my_model.keras')`. \n"
          ]
        },
        {
          "output_type": "stream",
          "name": "stdout",
          "text": [
            "\b\b\b\b\b\b\b\b\b\b\b\b\b\b\b\b\b\b\b\b\b\b\b\b\b\b\b\b\b\b\b\b\b\b\b\b\b\b\b\b\b\b\b\b\b\b\b\b\b\b\b\b\b\b\b\b\b\b\b\b\b\b\b\b\b\b\b\b\b\b\b\b\b\b\r\u001b[1m55/55\u001b[0m \u001b[32m━━━━━━━━━━━━━━━━━━━━\u001b[0m\u001b[37m\u001b[0m \u001b[1m19s\u001b[0m 340ms/step - accuracy: 0.9345 - loss: 8.6358 - val_accuracy: 0.9528 - val_loss: 8.0462\n",
            "Epoch 3/20\n",
            "\u001b[1m55/55\u001b[0m \u001b[32m━━━━━━━━━━━━━━━━━━━━\u001b[0m\u001b[37m\u001b[0m \u001b[1m19s\u001b[0m 338ms/step - accuracy: 0.9668 - loss: 7.7719 - val_accuracy: 0.9515 - val_loss: 7.2876\n",
            "Epoch 4/20\n",
            "\u001b[1m55/55\u001b[0m \u001b[32m━━━━━━━━━━━━━━━━━━━━\u001b[0m\u001b[37m\u001b[0m \u001b[1m15s\u001b[0m 269ms/step - accuracy: 0.9762 - loss: 7.0057 - val_accuracy: 0.9528 - val_loss: 6.5667\n",
            "Epoch 5/20\n",
            "\u001b[1m55/55\u001b[0m \u001b[32m━━━━━━━━━━━━━━━━━━━━\u001b[0m\u001b[37m\u001b[0m \u001b[1m0s\u001b[0m 186ms/step - accuracy: 0.9842 - loss: 6.2739"
          ]
        },
        {
          "output_type": "stream",
          "name": "stderr",
          "text": [
            "WARNING:absl:You are saving your model as an HDF5 file via `model.save()` or `keras.saving.save_model(model)`. This file format is considered legacy. We recommend using instead the native Keras format, e.g. `model.save('my_model.keras')` or `keras.saving.save_model(model, 'my_model.keras')`. \n"
          ]
        },
        {
          "output_type": "stream",
          "name": "stdout",
          "text": [
            "\b\b\b\b\b\b\b\b\b\b\b\b\b\b\b\b\b\b\b\b\b\b\b\b\b\b\b\b\b\b\b\b\b\b\b\b\b\b\b\b\b\b\b\b\b\b\b\b\b\b\b\b\b\b\b\b\b\b\b\b\b\b\b\b\b\b\b\b\b\b\b\b\b\b\r\u001b[1m55/55\u001b[0m \u001b[32m━━━━━━━━━━━━━━━━━━━━\u001b[0m\u001b[37m\u001b[0m \u001b[1m17s\u001b[0m 303ms/step - accuracy: 0.9842 - loss: 6.2712 - val_accuracy: 0.9542 - val_loss: 5.8949\n",
            "Epoch 6/20\n",
            "\u001b[1m55/55\u001b[0m \u001b[32m━━━━━━━━━━━━━━━━━━━━\u001b[0m\u001b[37m\u001b[0m \u001b[1m18s\u001b[0m 319ms/step - accuracy: 0.9866 - loss: 5.6345 - val_accuracy: 0.9542 - val_loss: 5.3050\n",
            "Epoch 7/20\n",
            "\u001b[1m55/55\u001b[0m \u001b[32m━━━━━━━━━━━━━━━━━━━━\u001b[0m\u001b[37m\u001b[0m \u001b[1m0s\u001b[0m 187ms/step - accuracy: 0.9946 - loss: 5.0210"
          ]
        },
        {
          "output_type": "stream",
          "name": "stderr",
          "text": [
            "WARNING:absl:You are saving your model as an HDF5 file via `model.save()` or `keras.saving.save_model(model)`. This file format is considered legacy. We recommend using instead the native Keras format, e.g. `model.save('my_model.keras')` or `keras.saving.save_model(model, 'my_model.keras')`. \n"
          ]
        },
        {
          "output_type": "stream",
          "name": "stdout",
          "text": [
            "\b\b\b\b\b\b\b\b\b\b\b\b\b\b\b\b\b\b\b\b\b\b\b\b\b\b\b\b\b\b\b\b\b\b\b\b\b\b\b\b\b\b\b\b\b\b\b\b\b\b\b\b\b\b\b\b\b\b\b\b\b\b\b\b\b\b\b\b\b\b\b\b\b\b\r\u001b[1m55/55\u001b[0m \u001b[32m━━━━━━━━━━━━━━━━━━━━\u001b[0m\u001b[37m\u001b[0m \u001b[1m17s\u001b[0m 317ms/step - accuracy: 0.9946 - loss: 5.0185 - val_accuracy: 0.9555 - val_loss: 4.7641\n",
            "Epoch 8/20\n",
            "\u001b[1m55/55\u001b[0m \u001b[32m━━━━━━━━━━━━━━━━━━━━\u001b[0m\u001b[37m\u001b[0m \u001b[1m23s\u001b[0m 342ms/step - accuracy: 0.9964 - loss: 4.4749 - val_accuracy: 0.9515 - val_loss: 4.2600\n",
            "Epoch 9/20\n",
            "\u001b[1m55/55\u001b[0m \u001b[32m━━━━━━━━━━━━━━━━━━━━\u001b[0m\u001b[37m\u001b[0m \u001b[1m15s\u001b[0m 273ms/step - accuracy: 0.9874 - loss: 3.9973 - val_accuracy: 0.9515 - val_loss: 3.8060\n",
            "Epoch 10/20\n",
            "\u001b[1m55/55\u001b[0m \u001b[32m━━━━━━━━━━━━━━━━━━━━\u001b[0m\u001b[37m\u001b[0m \u001b[1m15s\u001b[0m 272ms/step - accuracy: 0.9924 - loss: 3.5408 - val_accuracy: 0.9542 - val_loss: 3.3911\n",
            "Epoch 11/20\n",
            "\u001b[1m55/55\u001b[0m \u001b[32m━━━━━━━━━━━━━━━━━━━━\u001b[0m\u001b[37m\u001b[0m \u001b[1m15s\u001b[0m 267ms/step - accuracy: 0.9948 - loss: 3.1373 - val_accuracy: 0.9528 - val_loss: 3.0628\n",
            "Epoch 12/20\n",
            "\u001b[1m55/55\u001b[0m \u001b[32m━━━━━━━━━━━━━━━━━━━━\u001b[0m\u001b[37m\u001b[0m \u001b[1m15s\u001b[0m 265ms/step - accuracy: 0.9950 - loss: 2.7756 - val_accuracy: 0.9555 - val_loss: 2.7073\n",
            "Epoch 13/20\n",
            "\u001b[1m55/55\u001b[0m \u001b[32m━━━━━━━━━━━━━━━━━━━━\u001b[0m\u001b[37m\u001b[0m \u001b[1m0s\u001b[0m 192ms/step - accuracy: 0.9979 - loss: 2.4513"
          ]
        },
        {
          "output_type": "stream",
          "name": "stderr",
          "text": [
            "WARNING:absl:You are saving your model as an HDF5 file via `model.save()` or `keras.saving.save_model(model)`. This file format is considered legacy. We recommend using instead the native Keras format, e.g. `model.save('my_model.keras')` or `keras.saving.save_model(model, 'my_model.keras')`. \n"
          ]
        },
        {
          "output_type": "stream",
          "name": "stdout",
          "text": [
            "\b\b\b\b\b\b\b\b\b\b\b\b\b\b\b\b\b\b\b\b\b\b\b\b\b\b\b\b\b\b\b\b\b\b\b\b\b\b\b\b\b\b\b\b\b\b\b\b\b\b\b\b\b\b\b\b\b\b\b\b\b\b\b\b\b\b\b\b\b\b\b\b\b\b\r\u001b[1m55/55\u001b[0m \u001b[32m━━━━━━━━━━━━━━━━━━━━\u001b[0m\u001b[37m\u001b[0m \u001b[1m17s\u001b[0m 301ms/step - accuracy: 0.9978 - loss: 2.4500 - val_accuracy: 0.9582 - val_loss: 2.4189\n",
            "Epoch 14/20\n",
            "\u001b[1m55/55\u001b[0m \u001b[32m━━━━━━━━━━━━━━━━━━━━\u001b[0m\u001b[37m\u001b[0m \u001b[1m0s\u001b[0m 247ms/step - accuracy: 0.9912 - loss: 2.1857"
          ]
        },
        {
          "output_type": "stream",
          "name": "stderr",
          "text": [
            "WARNING:absl:You are saving your model as an HDF5 file via `model.save()` or `keras.saving.save_model(model)`. This file format is considered legacy. We recommend using instead the native Keras format, e.g. `model.save('my_model.keras')` or `keras.saving.save_model(model, 'my_model.keras')`. \n"
          ]
        },
        {
          "output_type": "stream",
          "name": "stdout",
          "text": [
            "\b\b\b\b\b\b\b\b\b\b\b\b\b\b\b\b\b\b\b\b\b\b\b\b\b\b\b\b\b\b\b\b\b\b\b\b\b\b\b\b\b\b\b\b\b\b\b\b\b\b\b\b\b\b\b\b\b\b\b\b\b\b\b\b\b\b\b\b\b\b\b\b\b\b\r\u001b[1m55/55\u001b[0m \u001b[32m━━━━━━━━━━━━━━━━━━━━\u001b[0m\u001b[37m\u001b[0m \u001b[1m26s\u001b[0m 472ms/step - accuracy: 0.9912 - loss: 2.1844 - val_accuracy: 0.9609 - val_loss: 2.1496\n",
            "Epoch 15/20\n",
            "\u001b[1m55/55\u001b[0m \u001b[32m━━━━━━━━━━━━━━━━━━━━\u001b[0m\u001b[37m\u001b[0m \u001b[1m20s\u001b[0m 347ms/step - accuracy: 0.9926 - loss: 1.9307 - val_accuracy: 0.9609 - val_loss: 1.9289\n",
            "Epoch 16/20\n",
            "\u001b[1m55/55\u001b[0m \u001b[32m━━━━━━━━━━━━━━━━━━━━\u001b[0m\u001b[37m\u001b[0m \u001b[1m15s\u001b[0m 277ms/step - accuracy: 0.9957 - loss: 1.6921 - val_accuracy: 0.9582 - val_loss: 1.7106\n",
            "Epoch 17/20\n",
            "\u001b[1m55/55\u001b[0m \u001b[32m━━━━━━━━━━━━━━━━━━━━\u001b[0m\u001b[37m\u001b[0m \u001b[1m15s\u001b[0m 270ms/step - accuracy: 0.9948 - loss: 1.4925 - val_accuracy: 0.9569 - val_loss: 1.5249\n",
            "Epoch 18/20\n",
            "\u001b[1m55/55\u001b[0m \u001b[32m━━━━━━━━━━━━━━━━━━━━\u001b[0m\u001b[37m\u001b[0m \u001b[1m15s\u001b[0m 277ms/step - accuracy: 0.9969 - loss: 1.3178 - val_accuracy: 0.9609 - val_loss: 1.3673\n",
            "Epoch 19/20\n",
            "\u001b[1m55/55\u001b[0m \u001b[32m━━━━━━━━━━━━━━━━━━━━\u001b[0m\u001b[37m\u001b[0m \u001b[1m15s\u001b[0m 282ms/step - accuracy: 0.9961 - loss: 1.1583 - val_accuracy: 0.9609 - val_loss: 1.2159\n",
            "Epoch 20/20\n",
            "\u001b[1m55/55\u001b[0m \u001b[32m━━━━━━━━━━━━━━━━━━━━\u001b[0m\u001b[37m\u001b[0m \u001b[1m16s\u001b[0m 282ms/step - accuracy: 0.9919 - loss: 1.0234 - val_accuracy: 0.9515 - val_loss: 1.0700\n"
          ]
        }
      ]
    },
    {
      "cell_type": "code",
      "source": [
        "import matplotlib.pyplot as plt\n",
        "\n",
        "# 提取历史数据\n",
        "epochs = range(1, len(history.history['loss']) + 1)\n",
        "loss = history.history['loss']\n",
        "val_loss = history.history['val_loss']\n",
        "accuracy = history.history['accuracy']\n",
        "val_accuracy = history.history['val_accuracy']\n",
        "\n",
        "# 绘制 accuracy 和 val_accuracy\n",
        "plt.figure(figsize=(12, 5))\n",
        "plt.subplot(1, 2, 1)\n",
        "plt.plot(epochs, accuracy, 'bo-', label='Training Accuracy')\n",
        "plt.plot(epochs, val_accuracy, 'ro-', label='Validation Accuracy')\n",
        "plt.title('Training and Validation Accuracy')\n",
        "plt.xlabel('Epochs')\n",
        "plt.ylabel('Accuracy')\n",
        "plt.legend()\n",
        "\n",
        "# 绘制 loss 和 val_loss\n",
        "plt.subplot(1, 2, 2)\n",
        "plt.plot(epochs, loss, 'bo-', label='Training Loss')\n",
        "plt.plot(epochs, val_loss, 'ro-', label='Validation Loss')\n",
        "plt.title('Training and Validation Loss')\n",
        "plt.xlabel('Epochs')\n",
        "plt.ylabel('Loss')\n",
        "plt.legend()\n",
        "\n",
        "plt.tight_layout()\n",
        "plt.show()"
      ],
      "metadata": {
        "id": "gbL9MmrWb8-R",
        "outputId": "a4bd689b-b23e-40ee-ce2b-6a39e8d0e570",
        "colab": {
          "base_uri": "https://localhost:8080/",
          "height": 362
        }
      },
      "id": "gbL9MmrWb8-R",
      "execution_count": 20,
      "outputs": [
        {
          "output_type": "display_data",
          "data": {
            "text/plain": [
              "<Figure size 1200x500 with 2 Axes>"
            ],
            "image/png": "[encoded data removed]"
          },
          "metadata": {}
        }
      ]
    }
  ],
  "metadata": {
    "kernelspec": {
      "display_name": "Python 3",
      "name": "python3"
    },
    "language_info": {
      "codemirror_mode": {
        "name": "ipython",
        "version": 2
      },
      "file_extension": ".py",
      "mimetype": "text/x-python",
      "name": "python",
      "nbconvert_exporter": "python",
      "pygments_lexer": "ipython2",
      "version": "2.7.6"
    },
    "colab": {
      "provenance": [],
      "gpuType": "T4",
      "include_colab_link": true
    },
    "accelerator": "GPU"
  },
  "nbformat": 4,
  "nbformat_minor": 5
}