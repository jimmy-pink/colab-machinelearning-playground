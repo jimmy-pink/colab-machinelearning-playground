{
  "cells": [
    {
      "cell_type": "markdown",
      "metadata": {
        "id": "view-in-github",
        "colab_type": "text"
      },
      "source": [
        "<a href=\"https://colab.research.google.com/github/jimmy-pink/colab-playground/blob/main/pre-trained/ResNet50V2-FolderIconRecognition.ipynb\" target=\"_parent\"><img src=\"https://colab.research.google.com/assets/colab-badge.svg\" alt=\"Open In Colab\"/></a>"
      ]
    },
    {
      "cell_type": "markdown",
      "source": [
        "## 使用ResNet50V2微调以解决FolderIcon二分类问题"
      ],
      "metadata": {
        "id": "MZ_z4hUVN4Ls"
      },
      "id": "MZ_z4hUVN4Ls"
    },
    {
      "cell_type": "code",
      "execution_count": null,
      "id": "initial_id",
      "metadata": {
        "collapsed": true,
        "id": "initial_id"
      },
      "outputs": [],
      "source": [
        "from tensorflow.keras.models import Model\n",
        "from tensorflow.keras.layers import Dense, GlobalAveragePooling2D, Dropout, Input\n",
        "from tensorflow.keras.optimizers import Adam"
      ]
    },
    {
      "cell_type": "markdown",
      "source": [
        "### 数据准备"
      ],
      "metadata": {
        "id": "hB6NfhjAOnSQ"
      },
      "id": "hB6NfhjAOnSQ"
    },
    {
      "cell_type": "code",
      "source": [
        "## 转存 https://drive.google.com/drive/folders/1xwtf91GSyeIc7ohpCKsDCYv3zXgKa0sf\n",
        "from google.colab import drive\n",
        "drive.mount('/content/drive')\n",
        "\n",
        "# 挂载 Google Drive\n",
        "base_dir = '/content/drive/MyDrive/Google AI Studio/data/folder-icon-images/'  # Google Drive 中的图像文件夹路径\n",
        "train_dir=base_dir+'is_folder'\n",
        "drive_train_validate_dir = base_dir + \"train_validate\""
      ],
      "metadata": {
        "id": "XaQ0f4XSOpG9"
      },
      "id": "XaQ0f4XSOpG9",
      "execution_count": null,
      "outputs": []
    },
    {
      "cell_type": "code",
      "source": [
        "from tensorflow.keras.preprocessing.image import ImageDataGenerator\n",
        "\n",
        "# 设置数据增强\n",
        "train_datagen = ImageDataGenerator(rescale=1./255,\n",
        "                                   horizontal_flip=True)\n",
        "\n",
        "# 使用 flow_from_directory 加载训练数据\n",
        "# 数据增强 + 归一化\n",
        "train_datagen = ImageDataGenerator(\n",
        "    rescale=1./255,\n",
        "    horizontal_flip=True,\n",
        "    validation_split=0.3  # 30% 作为验证集\n",
        ")\n",
        "\n",
        "# 训练集生成器\n",
        "train_generator = train_datagen.flow_from_directory(\n",
        "    train_dir,\n",
        "    target_size=(224, 224),\n",
        "    batch_size=32,\n",
        "    class_mode='binary',  # 二分类用 binary，多分类用 categorical\n",
        "    subset='training'  # 指定是训练集\n",
        ")\n",
        "\n",
        "# 验证集生成器\n",
        "validation_generator = train_datagen.flow_from_directory(\n",
        "    train_dir,\n",
        "    target_size=(224, 224),\n",
        "    batch_size=32,\n",
        "    class_mode='binary',\n",
        "    subset='validation'  # 指定是验证集\n",
        ")\n",
        "print(f\"找到的训练样本数: {train_generator.samples}\")\n",
        "print(f\"找到的验证样本数: {validation_generator.samples}\")\n",
        "images, labels = next(train_generator)\n",
        "print(\"图像形状:\", images.shape)\n",
        "print(\"标签形状:\", labels.shape)"
      ],
      "metadata": {
        "id": "jpOZX38aOt5Y"
      },
      "id": "jpOZX38aOt5Y",
      "execution_count": null,
      "outputs": []
    },
    {
      "cell_type": "code",
      "source": [
        "import numpy as np\n",
        "from sklearn.utils.class_weight import compute_class_weight\n",
        "# 获取训练集的真实标签（需确保 train_generator.classes 是整数标签 0/1）\n",
        "y_train = train_generator.classes\n",
        "# 计算类别权重（classes 需是 NumPy 数组）\n",
        "class_weights = compute_class_weight(\n",
        "    'balanced',\n",
        "    classes=np.unique(y_train),  # 自动提取唯一类别（如 [0, 1]）\n",
        "    y=y_train\n",
        ")\n",
        "# 转换为字典格式\n",
        "class_weights = {i: weight for i, weight in enumerate(class_weights)}\n",
        "print(\"类别权重:\", class_weights)"
      ],
      "metadata": {
        "id": "6o4opWbCRcPF"
      },
      "id": "6o4opWbCRcPF",
      "execution_count": null,
      "outputs": []
    },
    {
      "cell_type": "markdown",
      "source": [
        "### 建模"
      ],
      "metadata": {
        "id": "0UZNdpNmP3A3"
      },
      "id": "0UZNdpNmP3A3"
    },
    {
      "cell_type": "code",
      "source": [
        "from tensorflow.keras.applications import ResNet50V2\n",
        "from tensorflow.keras import layers, models\n",
        "\n",
        "base_model = ResNet50V2(\n",
        "    weights='imagenet',  # 使用预训练权重\n",
        "    include_top=False,   # 不包含顶层分类器\n",
        "    input_shape=(224, 224, 3)\n",
        ")\n",
        "\n",
        "\n",
        "# 冻结前 n% 的层\n",
        "freeze_until = int(len(base_model.layers) * 0.9)\n",
        "for i, layer in enumerate(base_model.layers):\n",
        "    layer.trainable = i >= freeze_until"
      ],
      "metadata": {
        "id": "33DpvkrOP5jz"
      },
      "id": "33DpvkrOP5jz",
      "execution_count": null,
      "outputs": []
    },
    {
      "cell_type": "code",
      "source": [
        "# 可选： 模型保存\n",
        "import os\n",
        "save_dir = '/content/drive/MyDrive/Google AI Studio/saved_models'\n",
        "# 如果目录不存在，则创建\n",
        "if not os.path.exists(save_dir):\n",
        "    os.makedirs(save_dir)\n",
        "model_file_save_path = f'{save_dir}/ResNet50V2_folder_icon_shape_predict_model.h5'"
      ],
      "metadata": {
        "id": "jIo-5ToER1qf"
      },
      "id": "jIo-5ToER1qf",
      "execution_count": null,
      "outputs": []
    },
    {
      "cell_type": "code",
      "source": [
        "model = models.Sequential([\n",
        "    base_model,\n",
        "    layers.GlobalAveragePooling2D(),\n",
        "    layers.Dropout(0.6),\n",
        "    layers.Dense(256, activation='relu', kernel_regularizer=regularizers.l2(0.05)),\n",
        "    layers.Dropout(0.5),\n",
        "    layers.Dense(1, activation='sigmoid')  # 二分类输出\n",
        "])\n",
        "\n",
        "optimizer = AdamW(learning_rate=1e-4, weight_decay=1e-4)\n",
        "model.compile(\n",
        "    optimizer=optimizer,\n",
        "    loss='binary_crossentropy',\n",
        "    metrics=['accuracy']\n",
        ")"
      ],
      "metadata": {
        "id": "CzPCwwddRKj4"
      },
      "id": "CzPCwwddRKj4",
      "execution_count": null,
      "outputs": []
    },
    {
      "cell_type": "code",
      "source": [
        "from tensorflow.keras.callbacks import Callback\n",
        "from tensorflow.keras.callbacks import EarlyStopping, ModelCheckpoint\n",
        "\n",
        "class myCallback(Callback):\n",
        "    def on_epoch_end(self, epoch, logs={}):\n",
        "        if(logs.get('val_accuracy') >= 0.98 and logs.get('val_loss') < 0.2 ):\n",
        "            self.model.stop_training = True\n",
        "\n",
        "callbacks = [\n",
        "    ModelCheckpoint(\n",
        "        model_file_save_path,\n",
        "        monitor='val_accuracy',  # 监控验证准确率\n",
        "        save_best_only=True,     # 只保留最佳\n",
        "        mode='max'               # 取最大值\n",
        "    ),\n",
        "    EarlyStopping(monitor='val_loss', patience=5),\n",
        "    myCallback()\n",
        "]\n",
        "\n",
        "history = model.fit(\n",
        "    train_generator,\n",
        "    epochs=50,\n",
        "    validation_data=validation_generator,\n",
        "    class_weight=class_weights,\n",
        "          verbose=1,\n",
        "          callbacks=callbacks\n",
        ")"
      ],
      "metadata": {
        "id": "7C6fYMK5RQoF"
      },
      "id": "7C6fYMK5RQoF",
      "execution_count": null,
      "outputs": []
    }
  ],
  "metadata": {
    "kernelspec": {
      "display_name": "Python 3",
      "name": "python3"
    },
    "language_info": {
      "codemirror_mode": {
        "name": "ipython",
        "version": 2
      },
      "file_extension": ".py",
      "mimetype": "text/x-python",
      "name": "python",
      "nbconvert_exporter": "python",
      "pygments_lexer": "ipython2",
      "version": "2.7.6"
    },
    "colab": {
      "provenance": [],
      "toc_visible": true,
      "include_colab_link": true
    }
  },
  "nbformat": 4,
  "nbformat_minor": 5
}