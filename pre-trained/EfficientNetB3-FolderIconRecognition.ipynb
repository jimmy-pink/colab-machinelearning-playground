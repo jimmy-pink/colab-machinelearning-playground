{
  "cells": [
    {
      "cell_type": "markdown",
      "metadata": {
        "id": "view-in-github",
        "colab_type": "text"
      },
      "source": [
        "<a href=\"https://colab.research.google.com/github/jimmy-pink/colab-playground/blob/main/pre-trained/EfficientNetB3-FolderIconRecognition.ipynb\" target=\"_parent\"><img src=\"https://colab.research.google.com/assets/colab-badge.svg\" alt=\"Open In Colab\"/></a>"
      ]
    },
    {
      "metadata": {
        "id": "3e47f469607dd3b6"
      },
      "cell_type": "markdown",
      "source": [
        "## 使用EfficientNetB3微调以解决FolderIcon二分类问题\n",
        "\n"
      ],
      "id": "3e47f469607dd3b6"
    },
    {
      "cell_type": "markdown",
      "source": [
        "### 问题分析\n",
        "#### 背景\n",
        "已在VGG16预训练模型上微调，在对2170多个folder icon预测，存在以下问题：\n",
        "- 发现准确率仅为88%-91%\n",
        "- 更要命的是基于VGG16训练出来的模型经常犯超低级错误，将毫不相干的图像判断为真。   \n",
        "\n",
        "鉴于VGG16是非常老的模型，现以EfficientNetB3再训练一版，观察模型性能有无明显提升。\n",
        "\n"
      ],
      "metadata": {
        "id": "Nv1XvRhzU5W0"
      },
      "id": "Nv1XvRhzU5W0"
    },
    {
      "cell_type": "code",
      "source": [
        "from tensorflow.keras.applications import EfficientNetB3\n",
        "from tensorflow.keras.models import Model\n",
        "from tensorflow.keras.layers import Dense, GlobalAveragePooling2D, Dropout, Input\n",
        "from tensorflow.keras.optimizers import Adam"
      ],
      "metadata": {
        "id": "GvB2q0xTV1RN"
      },
      "id": "GvB2q0xTV1RN",
      "execution_count": null,
      "outputs": []
    },
    {
      "cell_type": "markdown",
      "source": [
        "### 数据准备"
      ],
      "metadata": {
        "id": "9lwEeoxeWN70"
      },
      "id": "9lwEeoxeWN70"
    },
    {
      "cell_type": "code",
      "source": [
        "from google.colab import drive\n",
        "drive.mount('/content/drive')\n",
        "\n",
        "# 挂载 Google Drive\n",
        "base_dir = '/content/drive/MyDrive/Google-AI-Studio/data/folder-icon-images/'  # Google Drive 中的图像文件夹路径\n",
        "train_dir=base_dir+'is_folder'\n",
        "drive_train_validate_dir = base_dir + \"train_validate\""
      ],
      "metadata": {
        "id": "z3Lb1gMdWRgr"
      },
      "id": "z3Lb1gMdWRgr",
      "execution_count": null,
      "outputs": []
    },
    {
      "cell_type": "code",
      "source": [
        "# 设置数据增强\n",
        "train_datagen = ImageDataGenerator(rescale=1./255,\n",
        "                                   horizontal_flip=True)\n",
        "\n",
        "# 使用 flow_from_directory 加载训练数据\n",
        "# 数据增强 + 归一化\n",
        "train_datagen = ImageDataGenerator(\n",
        "    rescale=1./255,\n",
        "    horizontal_flip=True,\n",
        "    validation_split=0.3  # 30% 作为验证集\n",
        ")\n",
        "\n",
        "# 训练集生成器\n",
        "train_generator = train_datagen.flow_from_directory(\n",
        "    train_dir,\n",
        "    target_size=(300, 300),\n",
        "    batch_size=32,\n",
        "    class_mode='binary',  # 二分类用 binary，多分类用 categorical\n",
        "    subset='training'  # 指定是训练集\n",
        ")\n",
        "\n",
        "# 验证集生成器\n",
        "validation_generator = train_datagen.flow_from_directory(\n",
        "    train_dir,\n",
        "    target_size=(300, 300),\n",
        "    batch_size=32,\n",
        "    class_mode='binary',\n",
        "    subset='validation'  # 指定是验证集\n",
        ")\n",
        "print(f\"找到的训练样本数: {train_generator.samples}\")\n",
        "print(f\"找到的验证样本数: {validation_generator.samples}\")\n",
        "images, labels = next(train_generator)\n",
        "print(\"图像形状:\", images.shape)\n",
        "print(\"标签形状:\", labels.shape)"
      ],
      "metadata": {
        "id": "Zt-enxFxWWvm"
      },
      "id": "Zt-enxFxWWvm",
      "execution_count": null,
      "outputs": []
    },
    {
      "cell_type": "code",
      "source": [
        "import numpy as np\n",
        "from sklearn.utils.class_weight import compute_class_weight\n",
        "# 获取训练集的真实标签（需确保 train_generator.classes 是整数标签 0/1）\n",
        "y_train = train_generator.classes\n",
        "# 计算类别权重（classes 需是 NumPy 数组）\n",
        "class_weights = compute_class_weight(\n",
        "    'balanced',\n",
        "    classes=np.unique(y_train),  # 自动提取唯一类别（如 [0, 1]）\n",
        "    y=y_train\n",
        ")\n",
        "# 转换为字典格式\n",
        "class_weights = {i: weight for i, weight in enumerate(class_weights)}\n",
        "print(\"类别权重:\", class_weights)"
      ],
      "metadata": {
        "id": "5AaXzoKVXKt1"
      },
      "id": "5AaXzoKVXKt1",
      "execution_count": null,
      "outputs": []
    },
    {
      "cell_type": "markdown",
      "source": [
        "### 建模与训练"
      ],
      "metadata": {
        "id": "8lXD96H1XN0M"
      },
      "id": "8lXD96H1XN0M"
    },
    {
      "cell_type": "code",
      "source": [
        "base_model = EfficientNetB3(include_top=False, weights='imagenet', input_shape=(300, 300, 3))\n",
        "\n",
        "# 冻结前 90% 的层\n",
        "freeze_until = int(len(base_model.layers) * 0.9)\n",
        "for i, layer in enumerate(base_model.layers):\n",
        "    layer.trainable = i >= freeze_until"
      ],
      "metadata": {
        "id": "lzovbB9KWGoA"
      },
      "id": "lzovbB9KWGoA",
      "execution_count": null,
      "outputs": []
    },
    {
      "cell_type": "code",
      "source": [
        "from tensorflow.keras.optimizers import AdamW\n",
        "\n",
        "model = Sequential([\n",
        "    base_model,\n",
        "    GlobalAveragePooling2D(),\n",
        "    Dropout(0.4),  # 添加Dropout层，丢弃50%的神经元\n",
        "    Dense(128, activation='relu', kernel_regularizer=regularizers.l2(0.01))(x),\n",
        "    Dropout(0.3),\n",
        "    Dense(1, activation='sigmoid')  # 最后一层对于二分类任务使用sigmoid激活\n",
        "])\n",
        "\n",
        "optimizer = AdamW(learning_rate=1e-4, weight_decay=1e-4)\n",
        "model.compile(optimizer=optimizer, loss='binary_crossentropy', metrics=['accuracy'])"
      ],
      "metadata": {
        "id": "j77SH7KOXUon"
      },
      "id": "j77SH7KOXUon",
      "execution_count": null,
      "outputs": []
    },
    {
      "cell_type": "code",
      "source": [
        "class myCallback(Callback):\n",
        "    def on_epoch_end(self, epoch, logs={}):\n",
        "        if(logs.get('val_accuracy') >= 0.98 and logs.get('val_loss') < 0.2 ):\n",
        "            self.model.stop_training = True\n",
        "callbacks = myCallback()\n",
        "# 训练模型\n",
        "history = model.fit(train_generator,\n",
        "          epochs=30,\n",
        "          validation_data=validation_generator,\n",
        "          callbacks=[callbacks])"
      ],
      "metadata": {
        "id": "B6sEPUndYMru"
      },
      "id": "B6sEPUndYMru",
      "execution_count": null,
      "outputs": []
    }
  ],
  "metadata": {
    "kernelspec": {
      "display_name": "Python 3",
      "name": "python3"
    },
    "language_info": {
      "codemirror_mode": {
        "name": "ipython",
        "version": 2
      },
      "file_extension": ".py",
      "mimetype": "text/x-python",
      "name": "python",
      "nbconvert_exporter": "python",
      "pygments_lexer": "ipython2",
      "version": "2.7.6"
    },
    "colab": {
      "provenance": [],
      "toc_visible": true,
      "gpuType": "T4",
      "include_colab_link": true
    },
    "accelerator": "GPU"
  },
  "nbformat": 4,
  "nbformat_minor": 5
}