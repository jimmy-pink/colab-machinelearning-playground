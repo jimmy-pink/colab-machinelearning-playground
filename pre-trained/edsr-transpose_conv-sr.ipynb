{
 "cells": [
  {
   "metadata": {},
   "cell_type": "markdown",
   "source": [
    "## 使用EDSR和反卷积技术扩展图像\n",
    "\n",
    "- Resolution 分辨率\n",
    "- SR Super-Resolution 超分辨率技术，也就是分辨率提升\n",
    "- EDSR model: Enhanced Deep Super-Resolution model, 一种加强的深度超分辨率预训练模型\n",
    "\n",
    "SR的目标：\n",
    "- 从低分辨率图像中 恢复出 高分辨率图像"
   ],
   "id": "70c2287e3172f901"
  },
  {
   "metadata": {},
   "cell_type": "code",
   "outputs": [],
   "execution_count": null,
   "source": "",
   "id": "54923c68c303fb5e"
  }
 ],
 "metadata": {
  "kernelspec": {
   "display_name": "Python 3",
   "language": "python",
   "name": "python3"
  },
  "language_info": {
   "codemirror_mode": {
    "name": "ipython",
    "version": 2
   },
   "file_extension": ".py",
   "mimetype": "text/x-python",
   "name": "python",
   "nbconvert_exporter": "python",
   "pygments_lexer": "ipython2",
   "version": "2.7.6"
  }
 },
 "nbformat": 4,
 "nbformat_minor": 5
}
