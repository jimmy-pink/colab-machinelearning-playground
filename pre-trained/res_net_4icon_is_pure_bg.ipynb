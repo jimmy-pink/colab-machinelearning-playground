{
 "cells": [
  {
   "metadata": {},
   "cell_type": "markdown",
   "source": [
    "## 判断是否纯净文件夹的模型训练\n",
    "\n",
    "\n",
    "|关键点|优化方法|\n",
    "|---|---|\n",
    "|**数据预处理**|HSV 色彩增强、边缘检测|\n",
    "|**数据增强**|纯净图案：仿射变换；非纯净图案：遮挡+噪声|\n",
    "|**模型微调**|冻结 VGG16 底层，微调高层|\n",
    "|**评估**|混淆矩阵 + 可视化预测|\n",
    "### 面临挑战\n",
    "\n",
    "按用途分类时的挑战\n",
    "1. 许多被标记为纯净的图案实际并不纯净， 上面一般会有均匀的形状 纹理点缀\n",
    "2. 有的形状较为特征， 为半折叠的文件 如图片，这种作为纯净背景时，主体一般镶嵌在中间，如何让机器理解这类图片哪种是纯净，哪种是已镶嵌好像有点困难"
   ],
   "id": "3097cc096c210b48"
  },
  {
   "metadata": {},
   "cell_type": "code",
   "outputs": [],
   "execution_count": null,
   "source": [
    "import numpy as np\n",
    "import matplotlib.pyplot as plt\n",
    "from tensorflow.keras.applications import VGG16\n",
    "from tensorflow.keras.models import Sequential\n",
    "from tensorflow.keras.layers import Dense, Flatten, Dropout\n",
    "from tensorflow.keras.preprocessing.image import ImageDataGenerator\n",
    "from tensorflow.keras.callbacks import Callback\n",
    "from tensorflow.keras import regularizers\n",
    "from tensorflow.keras.preprocessing import image\n",
    "from tensorflow.keras.applications.vgg16 import preprocess_input\n",
    "\n",
    "import os\n",
    "import shutil"
   ],
   "id": "62bf3883492e46de"
  },
  {
   "metadata": {},
   "cell_type": "code",
   "outputs": [],
   "execution_count": null,
   "source": [
    "from google.colab import drive\n",
    "drive.mount('/content/drive')\n",
    "\n",
    "# 挂载 Google Drive\n",
    "base_dir = '/content/drive/MyDrive/data/folder-icon-images/'  # Google Drive 中的图像文件夹路径\n",
    "drive_train_validate_dir = base_dir + \"train_validate\""
   ],
   "id": "b2da2435c9bb68ba"
  },
  {
   "metadata": {},
   "cell_type": "markdown",
   "source": "### 准备数据",
   "id": "df9fbf0486ecca7"
  },
  {
   "metadata": {},
   "cell_type": "code",
   "outputs": [],
   "execution_count": null,
   "source": [
    "local_image_dir = \"/content/data/is_pure/\"\n",
    "standard_dir = local_image_dir + 'pure'  # 新建的 \"standard\" 文件夹\n",
    "non_standard_dir = local_image_dir + 'non_pure'  # 新建的 \"non-standard\" 文件夹"
   ],
   "id": "b4757878c0368b3b"
  },
  {
   "metadata": {},
   "cell_type": "markdown",
   "source": "### 数据处理与划分",
   "id": "3bd50999b27a298"
  },
  {
   "metadata": {},
   "cell_type": "markdown",
   "source": "#### 图像颜色和纹理增强",
   "id": "adbf10a5f39cd8fe"
  },
  {
   "metadata": {},
   "cell_type": "code",
   "outputs": [],
   "execution_count": null,
   "source": [
    "import cv2\n",
    "def preprocess_image(image):\n",
    "    # 转为 HSV 空间\n",
    "    hsv = cv2.cvtColor(image, cv2.COLOR_RGB2HSV)\n",
    "    # 对 S 和 V 通道做直方图均衡化（需先转换为单通道）\n",
    "    hsv[:,:,1] = cv2.equalizeHist(hsv[:,:,1].astype('uint8'))  # 饱和度通道\n",
    "    hsv[:,:,2] = cv2.equalizeHist(hsv[:,:,2].astype('uint8'))  # 亮度通道\n",
    "    # 转回 RGB\n",
    "    image = cv2.cvtColor(hsv, cv2.COLOR_HSV2RGB)\n",
    "    return image\n",
    "\n",
    "# 使用灰度图像即可，只关心纹路， 不关心颜色\n",
    "def preprocess_gray_image(image):\n",
    "    # 转换为灰度图像\n",
    "    gray_image = cv2.cvtColor(image, cv2.COLOR_RGB2GRAY)\n",
    "    return gray_image"
   ],
   "id": "ff6c7cdb93846956"
  },
  {
   "metadata": {},
   "cell_type": "code",
   "outputs": [],
   "execution_count": null,
   "source": [
    "# 设置数据增强\n",
    "pure_datagen = ImageDataGenerator(\n",
    "    rescale=1./255,\n",
    "    horizontal_flip=True,\n",
    "    vertical_flip=True,\n",
    "    fill_mode='reflect',\n",
    "    preprocessing_function=preprocess_image,  # 自定义预处理\n",
    "    validation_split=0.3\n",
    ")\n",
    "\n",
    "# 训练集生成器\n",
    "train_generator = pure_datagen.flow_from_directory(\n",
    "    local_image_dir,\n",
    "    target_size=(224, 224),  # VGG16 需要 224x224，将原图转成224*224\n",
    "    batch_size=32,\n",
    "    class_mode='binary',  # 二分类用 binary，多分类用 categorical\n",
    "    subset='training'  # 指定是训练集\n",
    ")\n",
    "\n",
    "# 验证集生成器\n",
    "validation_generator = pure_datagen.flow_from_directory(\n",
    "    local_image_dir,\n",
    "    target_size=(224, 224),\n",
    "    batch_size=32,\n",
    "    class_mode='binary',\n",
    "    subset='validation'  # 指定是验证集\n",
    ")\n",
    "print(f\"找到的训练样本数: {train_generator.samples}\")\n",
    "print(f\"找到的验证样本数: {validation_generator.samples}\")\n",
    "images, labels = next(train_generator)\n",
    "print(\"图像形状:\", images.shape)  # 应为 (batch_size, 224, 224, 3)\n",
    "print(\"标签形状:\", labels.shape)"
   ],
   "id": "8f1aac74a493dbf2"
  },
  {
   "metadata": {},
   "cell_type": "markdown",
   "source": "### 模型创建",
   "id": "59ad57c66e2f324e"
  },
  {
   "metadata": {},
   "cell_type": "code",
   "outputs": [],
   "execution_count": null,
   "source": [
    "# 加载 VGG16，冻结前 15 层（只训练后面几层）\n",
    "from tensorflow.keras.applications import ResNet50\n",
    "from tensorflow.keras.optimizers import AdamW\n",
    "\n",
    "base_model = ResNet50(weights='imagenet', include_top=False, input_shape=(224, 224, 3 ))\n",
    "for layer in base_model.layers[:100]:  # 冻结部分层\n",
    "    layer.trainable = False\n",
    "# 构建二分类模型\n",
    "model = Sequential([\n",
    "    base_model,\n",
    "    Flatten(),\n",
    "    Dense(1024, activation='relu', kernel_regularizer=regularizers.l2(0.01)),  # 增大 L2 系数\n",
    "    Dropout(0.6),  # 提高 Dropout 比率\n",
    "    Dense(512, activation='relu'),\n",
    "    Dropout(0.5),\n",
    "    Dense(1, activation='sigmoid')\n",
    "])\n",
    "\n",
    "optimizer = AdamW(learning_rate=1e-4, weight_decay=1e-4)\n",
    "model.compile(optimizer=optimizer, loss='binary_crossentropy', metrics=['accuracy'])"
   ],
   "id": "142ef8ff52f1b1ed"
  },
  {
   "metadata": {},
   "cell_type": "markdown",
   "source": "### 模型训练",
   "id": "f4a9502febb088a6"
  },
  {
   "metadata": {},
   "cell_type": "code",
   "outputs": [],
   "execution_count": null,
   "source": [
    "import numpy as np\n",
    "from sklearn.utils.class_weight import compute_class_weight\n",
    "# 获取训练集的真实标签（需确保 train_generator.classes 是整数标签 0/1）\n",
    "y_train = train_generator.classes\n",
    "# 计算类别权重（classes 需是 NumPy 数组）\n",
    "class_weights = compute_class_weight(\n",
    "    'balanced',\n",
    "    classes=np.unique(y_train),  # 自动提取唯一类别（如 [0, 1]）\n",
    "    y=y_train\n",
    ")\n",
    "# 转换为字典格式\n",
    "class_weights = {i: weight for i, weight in enumerate(class_weights)}\n",
    "print(\"类别权重:\", class_weights)"
   ],
   "id": "c38cae3f92e8de01"
  },
  {
   "metadata": {},
   "cell_type": "code",
   "outputs": [],
   "execution_count": null,
   "source": [
    "from tensorflow.keras.callbacks import EarlyStopping,ReduceLROnPlateau\n",
    "\n",
    "callbacks = [\n",
    "    ReduceLROnPlateau(monitor='val_loss', factor=0.5, patience=2),\n",
    "    EarlyStopping(monitor='val_loss', patience=5, restore_best_weights=True)\n",
    "]\n",
    "history = model.fit(\n",
    "    train_generator,\n",
    "    epochs=30,\n",
    "    validation_data=validation_generator,\n",
    "    class_weight=class_weights  # 如果数据不均衡\n",
    ")"
   ],
   "id": "da73a8ed5607bf0e"
  },
  {
   "metadata": {},
   "cell_type": "code",
   "outputs": [],
   "execution_count": null,
   "source": "drive_test_pure_dir = base_dir + \"test_pure_classification\"",
   "id": "3c32dc46e8354638"
  },
  {
   "metadata": {},
   "cell_type": "code",
   "outputs": [],
   "execution_count": null,
   "source": [
    "# 使用模型进行预测\n",
    "for item in os.listdir(drive_test_pure_dir):\n",
    "    item_path = os.path.join(drive_test_pure_dir, item)\n",
    "    if os.path.isfile(item_path):\n",
    "        prediction = predict_image(model, item_path)  # 传递正确的路径\n",
    "        if prediction > 0.5:\n",
    "            # 输出预测结果\n",
    "            print(f\"{item_path} Prediction:\", prediction)"
   ],
   "id": "fa8a8c64014f2c1a"
  },
  {
   "metadata": {},
   "cell_type": "markdown",
   "source": "### 模型预测",
   "id": "482c447bd8e153b7"
  },
  {
   "metadata": {
    "collapsed": true
   },
   "cell_type": "code",
   "outputs": [],
   "execution_count": null,
   "source": [
    "import matplotlib.pyplot as plt\n",
    "import numpy as np\n",
    "# 从测试集取一批数据\n",
    "test_images, test_labels = next(validation_generator)\n",
    "predictions = model.predict(test_images)\n",
    "# 显示预测结果\n",
    "plt.figure(figsize=(10, 10))\n",
    "for i in range(9):\n",
    "    plt.subplot(3, 3, i+1)\n",
    "    plt.imshow(test_images[i])\n",
    "    pred = \"pure\" if predictions[i] > 0.5 else \"np\"\n",
    "    true = \"pure\" if test_labels[i] == 1 else \"np\"\n",
    "    plt.title(f\"predict: {pred}\\nTrue: {true}\")\n",
    "    plt.axis('off')\n",
    "plt.show()"
   ],
   "id": "initial_id"
  },
  {
   "metadata": {},
   "cell_type": "code",
   "outputs": [],
   "execution_count": null,
   "source": [
    "from sklearn.metrics import confusion_matrix\n",
    "import seaborn as sns\n",
    "# 获取所有测试数据预测\n",
    "y_pred = model.predict(validation_generator)\n",
    "y_pred = (y_pred > 0.5).astype(int)\n",
    "y_true = validation_generator.classes\n",
    "# 绘制混淆矩阵\n",
    "cm = confusion_matrix(y_true, y_pred)\n",
    "sns.heatmap(cm, annot=True, fmt='d', cmap='Blues')\n",
    "plt.xlabel('预测')\n",
    "plt.ylabel('真实')\n",
    "plt.show()"
   ],
   "id": "7c6356a1fca1e7ce"
  },
  {
   "metadata": {},
   "cell_type": "markdown",
   "source": "预测结果很不理想，最大原因可能在于数据集标签的问题",
   "id": "e0e3833a203efc4"
  }
 ],
 "metadata": {
  "kernelspec": {
   "display_name": "Python 3",
   "language": "python",
   "name": "python3"
  },
  "language_info": {
   "codemirror_mode": {
    "name": "ipython",
    "version": 2
   },
   "file_extension": ".py",
   "mimetype": "text/x-python",
   "name": "python",
   "nbconvert_exporter": "python",
   "pygments_lexer": "ipython2",
   "version": "2.7.6"
  }
 },
 "nbformat": 4,
 "nbformat_minor": 5
}
