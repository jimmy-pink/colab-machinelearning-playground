{
 "nbformat": 4,
 "nbformat_minor": 0,
 "metadata": {
  "colab": {
   "provenance": [],
   "toc_visible": true,
   "authorship_tag": "ABX9TyPIGrEfUyuHav6ixaTff4e8"
  },
  "kernelspec": {
   "name": "python3",
   "display_name": "Python 3 (ipykernel)",
   "language": "python"
  },
  "language_info": {
   "name": "python"
  }
 },
 "cells": [
  {
   "cell_type": "markdown",
   "source": "## Sarcasm 新闻标题讽刺检测",
   "metadata": {
    "id": "Cmbes9S-gmPq"
   }
  },
  {
   "metadata": {},
   "cell_type": "markdown",
   "source": [
    "### 问题分析\n",
    "\n",
    "- 问题类型： 二分类问题\n",
    "- 目标：\n",
    "    - 输入一段文字\n",
    "    - 输出：检测是否讽刺\n",
    "- 挑战：\n",
    "    - 讽刺的语义较为复杂，常常依赖于上下文、语气、文化背景等因素，难以通过简单的文本模式进行检测\n",
    "    - 讽刺的语言通常带有隐晦的情感，可能需要模型理解隐藏的情绪。\n",
    "    - 数据集可能有 类不平衡问题，即讽刺新闻的数量可能少于非讽刺新闻。"
   ]
  },
  {
   "metadata": {},
   "cell_type": "markdown",
   "source": [
    "### 数据准备\n",
    "- 数据来源： tfds,已标注的数据\n",
    "- 数据清洗：检查有无缺失值，不一致的格式\n",
    "- 数据分割：7:3分割训练/验证集"
   ]
  },
  {
   "metadata": {
    "ExecuteTime": {
     "end_time": "2025-05-05T07:53:54.833653Z",
     "start_time": "2025-05-05T07:53:54.830571Z"
    }
   },
   "cell_type": "code",
   "source": [
    "import matplotlib.pyplot as plt\n",
    "import tensorflow as tf\n",
    "import requests"
   ],
   "outputs": [],
   "execution_count": 50
  },
  {
   "metadata": {
    "ExecuteTime": {
     "end_time": "2025-05-05T07:53:59.886790Z",
     "start_time": "2025-05-05T07:53:57.182499Z"
    }
   },
   "cell_type": "code",
   "source": [
    "url = \"https://raw.githubusercontent.com/ashwaniYDV/sarcasm-detection-tensorflow/main/sarcasm.json\"\n",
    "response = requests.get(url)\n",
    "datastore = response.json()\n",
    "\n",
    "sentences = [] #标题集合\n",
    "labels = [] #标签 0非讽刺的，1讽刺的\n",
    "for item in datastore:\n",
    "    sentences.append(item['headline'])\n",
    "    labels.append(item['is_sarcastic'])\n",
    "print(sentences[0],\". label =\", labels[0])\n",
    "print(\"sentences length \", len(sentences))"
   ],
   "outputs": [
    {
     "name": "stdout",
     "output_type": "stream",
     "text": [
      "former versace store clerk sues over secret 'black code' for minority shoppers . label = 0\n",
      "sentences length  26709\n"
     ]
    }
   ],
   "execution_count": 51
  },
  {
   "metadata": {},
   "cell_type": "markdown",
   "source": "#### 数据检查和清洗\n"
  },
  {
   "metadata": {
    "ExecuteTime": {
     "end_time": "2025-05-05T07:54:01.969468Z",
     "start_time": "2025-05-05T07:54:01.954170Z"
    }
   },
   "cell_type": "code",
   "source": [
    "# 数组转成pandas张量 然后检查和清洗\n",
    "import pandas as pd\n",
    "pd_sentences = pd.Series(sentences)\n",
    "is_null_or_non_string = pd_sentences.isnull() | ~pd_sentences.apply(lambda x: isinstance(x, str))\n",
    "if is_null_or_non_string.value_counts()[False] == len(sentences):\n",
    "    print(\"无null值\")\n",
    "else:\n",
    "    print(is_null_or_non_string.value_counts())"
   ],
   "outputs": [
    {
     "name": "stdout",
     "output_type": "stream",
     "text": [
      "无null值\n"
     ]
    }
   ],
   "execution_count": 52
  },
  {
   "metadata": {
    "ExecuteTime": {
     "end_time": "2025-05-05T07:54:04.049635Z",
     "start_time": "2025-05-05T07:54:04.040727Z"
    }
   },
   "cell_type": "code",
   "source": "pd.Series(labels).value_counts()",
   "outputs": [
    {
     "data": {
      "text/plain": [
       "0    14985\n",
       "1    11724\n",
       "Name: count, dtype: int64"
      ]
     },
     "execution_count": 53,
     "metadata": {},
     "output_type": "execute_result"
    }
   ],
   "execution_count": 53
  },
  {
   "metadata": {},
   "cell_type": "markdown",
   "source": "#### 超参数定义"
  },
  {
   "metadata": {
    "ExecuteTime": {
     "end_time": "2025-05-05T07:54:05.516957Z",
     "start_time": "2025-05-05T07:54:05.514618Z"
    }
   },
   "cell_type": "code",
   "source": [
    "# 多少数据用于训练， 相当于train_test_split_rate\n",
    "TRAINING_SIZE = 20000\n",
    "# 只接受这么多token\n",
    "VOCAB_SIZE = 10000\n",
    "# Maximum length of the padded sequences\n",
    "MAX_LENGTH = 32\n",
    "# 词嵌入维度， 一个token记录16维向量\n",
    "EMBEDDING_DIM = 16"
   ],
   "outputs": [],
   "execution_count": 54
  },
  {
   "metadata": {},
   "cell_type": "markdown",
   "source": "#### 数据集分割"
  },
  {
   "metadata": {
    "ExecuteTime": {
     "end_time": "2025-05-05T07:54:06.886363Z",
     "start_time": "2025-05-05T07:54:06.881868Z"
    }
   },
   "cell_type": "code",
   "source": [
    "train_sentences = sentences[0:TRAINING_SIZE]\n",
    "test_sentences = sentences[TRAINING_SIZE:]\n",
    "# Split the labels\n",
    "train_labels = labels[0:TRAINING_SIZE]\n",
    "test_labels = labels[TRAINING_SIZE:]"
   ],
   "outputs": [],
   "execution_count": 55
  },
  {
   "metadata": {},
   "cell_type": "markdown",
   "source": [
    "### 特征工程\n",
    "\n",
    "- 文本预处理\n",
    "    - 去除噪声：标点，停用词(the,and)\n",
    "    - 小写化： 所有字母转小定，确保统一处理\n",
    "    - 词干提取 或 词形还原\n",
    "        - 如 running -> run\n",
    "- 文本表示\n",
    "    - 子词分词\n",
    "    - 矢量化\n",
    "    - 词嵌入"
   ]
  },
  {
   "metadata": {},
   "cell_type": "markdown",
   "source": "#### 文本预处理"
  },
  {
   "metadata": {
    "ExecuteTime": {
     "end_time": "2025-05-05T07:54:09.475206Z",
     "start_time": "2025-05-05T07:54:09.472674Z"
    }
   },
   "cell_type": "code",
   "source": [
    "import string\n",
    "def preprocess_text(text):\n",
    "    # 1. 小写化\n",
    "    text = text.lower()\n",
    "    # 2. 去除标点符号\n",
    "    text = text.translate(str.maketrans('', '', string.punctuation))\n",
    "    return text"
   ],
   "outputs": [],
   "execution_count": 57
  },
  {
   "metadata": {
    "ExecuteTime": {
     "end_time": "2025-05-05T07:54:10.730024Z",
     "start_time": "2025-05-05T07:54:10.684497Z"
    }
   },
   "cell_type": "code",
   "source": [
    "print(preprocess_text(\"Taking everything that you've learned in training a neural network based on NLP, we thought it might be a bit of fun to turn the tables away from classification and use your knowledge for prediction. \")) \n",
    "train_sentences = pd.Series(train_sentences).apply(preprocess_text).tolist()\n",
    "print(train_sentences[0])"
   ],
   "outputs": [
    {
     "name": "stdout",
     "output_type": "stream",
     "text": [
      "taking everything that youve learned in training a neural network based on nlp we thought it might be a bit of fun to turn the tables away from classification and use your knowledge for prediction \n",
      "former versace store clerk sues over secret black code for minority shoppers\n"
     ]
    }
   ],
   "execution_count": 58
  },
  {
   "metadata": {},
   "cell_type": "markdown",
   "source": "#### NLP\n"
  },
  {
   "metadata": {},
   "cell_type": "markdown",
   "source": "- 矢量化"
  },
  {
   "metadata": {
    "ExecuteTime": {
     "end_time": "2025-05-05T07:57:07.989852Z",
     "start_time": "2025-05-05T07:57:07.676214Z"
    }
   },
   "cell_type": "code",
   "source": [
    "## max_tokens 最大惟一单词数量， 超出会优先取词频高的\n",
    "## output_sequence_length 当vectorize_layer(sentence)方法调用时， 如果长度超出max_length  会截断只有max_len个单词\n",
    "vectorize_layer = tf.keras.layers.TextVectorization(max_tokens=VOCAB_SIZE,\n",
    "                                                    output_sequence_length=MAX_LENGTH)\n",
    "vectorize_layer.adapt(sentences)\n",
    "print(len(vectorize_layer.get_vocabulary()))\n",
    "# 矢量化语句集\n",
    "train_sequences = vectorize_layer(train_sentences)\n",
    "test_sequences = vectorize_layer(test_sentences)"
   ],
   "outputs": [
    {
     "name": "stdout",
     "output_type": "stream",
     "text": [
      "10000\n"
     ]
    }
   ],
   "execution_count": 70
  },
  {
   "metadata": {
    "ExecuteTime": {
     "end_time": "2025-05-05T07:57:09.791343Z",
     "start_time": "2025-05-05T07:57:09.768757Z"
    }
   },
   "cell_type": "code",
   "source": [
    "# 数组转tfds\n",
    "train_dataset_vectorized = tf.data.Dataset.from_tensor_slices((train_sequences,train_labels))\n",
    "test_dataset_vectorized = tf.data.Dataset.from_tensor_slices((test_sequences,test_labels))"
   ],
   "outputs": [],
   "execution_count": 71
  },
  {
   "metadata": {
    "ExecuteTime": {
     "end_time": "2025-05-05T07:57:11.590896Z",
     "start_time": "2025-05-05T07:57:11.582732Z"
    }
   },
   "cell_type": "code",
   "source": [
    "SHUFFLE_BUFFER_SIZE = 1000\n",
    "PREFETCH_BUFFER_SIZE = tf.data.AUTOTUNE\n",
    "BATCH_SIZE = 32\n",
    "\n",
    "# Optimize the datasets for training\n",
    "train_dataset_final = (train_dataset_vectorized.cache().shuffle(SHUFFLE_BUFFER_SIZE).prefetch(PREFETCH_BUFFER_SIZE).batch(BATCH_SIZE))\n",
    "test_dataset_final = (test_dataset_vectorized.cache().prefetch(PREFETCH_BUFFER_SIZE).batch(BATCH_SIZE))"
   ],
   "outputs": [],
   "execution_count": 72
  },
  {
   "metadata": {},
   "cell_type": "markdown",
   "source": [
    "### 创建模型\n",
    "\n"
   ]
  },
  {
   "metadata": {},
   "cell_type": "markdown",
   "source": [
    "#### 模型选择\n",
    "- FNN (MLP)\n",
    "- LSTM\n",
    "- RNN\n",
    "- GRU\n",
    "\n",
    "正则化：\n",
    "- L2正则化\n",
    "- Dropout\n",
    "\n"
   ]
  },
  {
   "metadata": {
    "ExecuteTime": {
     "end_time": "2025-05-05T07:58:11.725804Z",
     "start_time": "2025-05-05T07:58:02.602340Z"
    }
   },
   "cell_type": "code",
   "source": [
    "from keras import Sequential, Input, layers\n",
    "model = Sequential([\n",
    "    Input(shape = (MAX_LENGTH, )),\n",
    "    layers.Embedding(VOCAB_SIZE, EMBEDDING_DIM),\n",
    "    layers.GlobalAveragePooling1D(),\n",
    "    layers.Dense(24, activation=\"relu\"),\n",
    "    layers.Dense(1, activation=\"sigmoid\")\n",
    "])\n",
    "model.compile(optimizer=\"adam\", loss=\"binary_crossentropy\", metrics=['accuracy'])\n",
    "history = model.fit(train_dataset_final, validation_data=test_dataset_final, epochs=10, verbose=2)"
   ],
   "outputs": [
    {
     "name": "stdout",
     "output_type": "stream",
     "text": [
      "Epoch 1/10\n",
      "625/625 - 1s - 2ms/step - accuracy: 0.6851 - loss: 0.5820 - val_accuracy: 0.8113 - val_loss: 0.4340\n",
      "Epoch 2/10\n",
      "625/625 - 1s - 1ms/step - accuracy: 0.8496 - loss: 0.3601 - val_accuracy: 0.8383 - val_loss: 0.3702\n",
      "Epoch 3/10\n",
      "625/625 - 1s - 1ms/step - accuracy: 0.8870 - loss: 0.2826 - val_accuracy: 0.8465 - val_loss: 0.3566\n",
      "Epoch 4/10\n",
      "625/625 - 1s - 1ms/step - accuracy: 0.9075 - loss: 0.2354 - val_accuracy: 0.8410 - val_loss: 0.3691\n",
      "Epoch 5/10\n",
      "625/625 - 1s - 1ms/step - accuracy: 0.9222 - loss: 0.2016 - val_accuracy: 0.8529 - val_loss: 0.3585\n",
      "Epoch 6/10\n",
      "625/625 - 1s - 1ms/step - accuracy: 0.9347 - loss: 0.1757 - val_accuracy: 0.8524 - val_loss: 0.3770\n",
      "Epoch 7/10\n",
      "625/625 - 1s - 1ms/step - accuracy: 0.9447 - loss: 0.1520 - val_accuracy: 0.8417 - val_loss: 0.4237\n",
      "Epoch 8/10\n",
      "625/625 - 1s - 1ms/step - accuracy: 0.9492 - loss: 0.1391 - val_accuracy: 0.8460 - val_loss: 0.4304\n",
      "Epoch 9/10\n",
      "625/625 - 1s - 1ms/step - accuracy: 0.9539 - loss: 0.1244 - val_accuracy: 0.8264 - val_loss: 0.5050\n",
      "Epoch 10/10\n",
      "625/625 - 1s - 1ms/step - accuracy: 0.9596 - loss: 0.1123 - val_accuracy: 0.8371 - val_loss: 0.4955\n"
     ]
    }
   ],
   "execution_count": 74
  },
  {
   "metadata": {},
   "cell_type": "markdown",
   "source": "### 模型评估"
  },
  {
   "metadata": {
    "ExecuteTime": {
     "end_time": "2025-05-05T07:58:16.864862Z",
     "start_time": "2025-05-05T07:58:16.681998Z"
    }
   },
   "cell_type": "code",
   "source": [
    "acc = history.history['accuracy']\n",
    "val_acc = history.history['val_accuracy']\n",
    "loss = history.history['loss']\n",
    "val_loss = history.history['val_loss']\n",
    "\n",
    "# Get number of epochs\n",
    "epochs = range(len(acc))\n",
    "\n",
    "fig, ax = plt.subplots(1, 2, figsize=(10, 5))\n",
    "fig.suptitle('Training and validation performance')\n",
    "\n",
    "for i, (data, label) in enumerate(zip([(acc, val_acc), (loss, val_loss)], [\"Accuracy\", \"Loss\"])):\n",
    "    ax[i].plot(epochs, data[0], 'r', label=\"Training \" + label)\n",
    "    ax[i].plot(epochs, data[1], 'b', label=\"Validation \" + label)\n",
    "    ax[i].legend()\n",
    "    ax[i].set_xlabel('epochs')"
   ],
   "outputs": [
    {
     "data": {
      "text/plain": [
       "<Figure size 1000x500 with 2 Axes>"
      ],
      "image/png": "[encoded data removed]"
     },
     "metadata": {},
     "output_type": "display_data"
    }
   ],
   "execution_count": 75
  }
 ]
}
