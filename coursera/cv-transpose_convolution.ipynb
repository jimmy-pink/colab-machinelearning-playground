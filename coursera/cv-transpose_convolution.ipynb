{
 "cells": [
  {
   "metadata": {},
   "cell_type": "markdown",
   "source": "## 使用反卷积技术",
   "id": "f0cb2891df8785ba"
  },
  {
   "metadata": {},
   "cell_type": "code",
   "outputs": [],
   "execution_count": null,
   "source": [
    "!pip install tensorflow\n",
    "\n",
    "!pip install matplotlib \n",
    "import tensorflow as tf \n",
    "\n",
    "from tensorflow.keras.models import Model \n",
    "\n",
    "from tensorflow.keras.layers import Input, Conv2D, Conv2DTranspose, UpSampling2D \n",
    "\n",
    "import numpy as np \n",
    "\n",
    "import matplotlib.pyplot as plt "
   ],
   "id": "3fede79d2e833855"
  },
  {
   "metadata": {},
   "cell_type": "markdown",
   "source": [
    "### 问题分析\n",
    "使用Transpose Convolution 反卷积技术，将fashion mnist数据集中的28*28图像扩展到18*128"
   ],
   "id": "6fee13d78db90b31"
  },
  {
   "metadata": {},
   "cell_type": "markdown",
   "source": "### 数据准备",
   "id": "b1bddd6803dffe36"
  },
  {
   "metadata": {},
   "cell_type": "code",
   "outputs": [],
   "execution_count": null,
   "source": [
    "fmnist = tf.keras.datasets.fashion_mnist\n",
    "# 载入 Fashion MNIST 数据集，数据是 28x28 的灰度图，共 10 个类别\n",
    "(training_images, training_labels), (test_images, test_labels) = fmnist.load_data()\n",
    "\n",
    "# 归1化（normalization），将像素值从 [0, 255] 变为 [0, 1]，有助于模型训练。\n",
    "training_images=training_images / 255.0\n",
    "test_images=test_images / 255.0"
   ],
   "id": "dacc5ed013ce3b6a"
  },
  {
   "metadata": {},
   "cell_type": "markdown",
   "source": "### 建模训练",
   "id": "4546b1938bb28e72"
  },
  {
   "cell_type": "code",
   "execution_count": null,
   "id": "initial_id",
   "metadata": {
    "collapsed": true
   },
   "outputs": [],
   "source": [
    "# 输入层\n",
    "input_layer = Input(shape=(28, 28, 1))\n",
    "\n",
    "# 第一卷积层\n",
    "conv_layer = Conv2D(filters=32, kernel_size=(3, 3), activation='relu', padding='same')(input_layer)\n",
    "\n",
    "# 上采样1，28x28 -> 56x56\n",
    "upsample_layer1 = UpSampling2D(size=(2, 2))(conv_layer)\n",
    "\n",
    "# 第二卷积层\n",
    "conv_layer_2 = Conv2D(filters=64, kernel_size=(3, 3), activation='relu', padding='same')(upsample_layer1)\n",
    "\n",
    "# 上采样2，56x56 -> 112x112\n",
    "upsample_layer2 = UpSampling2D(size=(2, 2))(conv_layer_2)\n",
    "\n",
    "# 第三卷积层\n",
    "conv_layer_3 = Conv2D(filters=128, kernel_size=(3, 3), activation='relu', padding='same')(upsample_layer2)\n",
    "\n",
    "# 上采样3，112x112 -> 128x128\n",
    "upsample_layer3 = UpSampling2D(size=(2, 2))(conv_layer_3)\n",
    "\n",
    "# 最后转置卷积层，输出 128x128 图像\n",
    "transpose_conv_layer = Conv2DTranspose(filters=1, kernel_size=(3, 3), activation='sigmoid', padding='same')(upsample_layer3)\n",
    "\n",
    "# 定义模型\n",
    "model = Model(inputs=input_layer, outputs=transpose_conv_layer)\n",
    "\n",
    "# 编译模型\n",
    "model.compile(optimizer='adam', loss='mean_squared_error')"
   ]
  }
 ],
 "metadata": {
  "kernelspec": {
   "display_name": "Python 3",
   "language": "python",
   "name": "python3"
  },
  "language_info": {
   "codemirror_mode": {
    "name": "ipython",
    "version": 2
   },
   "file_extension": ".py",
   "mimetype": "text/x-python",
   "name": "python",
   "nbconvert_exporter": "python",
   "pygments_lexer": "ipython2",
   "version": "2.7.6"
  }
 },
 "nbformat": 4,
 "nbformat_minor": 5
}
