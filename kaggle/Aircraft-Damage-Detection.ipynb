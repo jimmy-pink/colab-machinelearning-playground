{
 "cells": [
  {
   "metadata": {},
   "cell_type": "markdown",
   "source": [
    "### 问题分析\n",
    "问题分析：飞机损伤检测\n",
    "\n",
    "飞机损伤检测是航空维护和安全领域中的一个重要任务。及时、准确地发现飞机上的损伤（如裂纹、凹陷等）对于确保飞机的安全性和可靠性至关重要。传统的人工检测方法往往依赖经验丰富的工程师进行检查，但这种方法效率较低，且容易受到人为因素的影响。\n",
    "\n",
    "#### 项目目标\n",
    "\n",
    "本项目的目标是：\n",
    "\t1.\t自动化飞机损伤检测：基于图像数据，自动分类损伤类型（如crack和dent）。\n",
    "\t2.\t损伤描述生成：基于Transformer模型自动生成损伤描述，为维修人员提供详细的分析信息。\n",
    "\n",
    "#### 任务中的挑战与难点\n",
    "\n",
    "1. 图像数据的复杂性：\n",
    "- 飞机表面损伤的种类繁多且细节复杂，裂纹（crack）和凹陷（dent）等损伤表现可能在不同角度、光照条件下有所不同。\n",
    "- 飞机表面可能有多个损伤，检测时需要区分它们并标记准确位置。\n",
    "2.\t数据标注困难：\n",
    "-\t获取大量高质量的带有准确标注的损伤图像数据可能是一个挑战，尤其是不同损伤类型的标注。\n",
    "-\t数据标注可能需要专家参与，并且可能受到人为误差的影响。\n",
    "3.\t类别不平衡问题：\n",
    "-\t飞机损伤的分类可能会面临类别不平衡的问题，例如，crack（裂纹）可能比dent（凹陷）更加常见，导致模型对较少见的损伤类型预测不准确。\n",
    "4.\t图像分类与生成任务的复合性：\n",
    "-\t飞机损伤检测不仅是一个传统的图像分类问题（判定损伤类型），还涉及到图像描述的生成（生成损伤的说明），这要求模型同时具备视觉识别和语言生成的能力。\n",
    "5.\t预训练模型适应性：\n",
    "-\t使用基于VGG16的预训练模型可以加速训练过程，但该模型是为一般的物体分类设计的，可能无法很好地适应特定的飞机损伤检测任务。需要对模型进行微调或优化，以提高其对损伤的识别能力。\n",
    "6.\tTransformer模型的复杂性：\n",
    "-\t基于Transformer的图像描述生成模型需要结合图像和语言数据，这使得模型训练过程复杂，尤其是在数据量不足时，训练可能会变得困难。\n",
    "-\tTransformer模型通常需要大量计算资源和时间，尤其是在图像处理和生成任务中。\n",
    "7.\t实时性和精度的平衡：\n",
    "-\t对于飞机损伤检测，尤其是在实际操作中，实时性非常重要。检测模型需要在足够短的时间内完成分类和生成说明，且不牺牲精度。\n",
    "-\t实时处理可能需要对模型进行优化，减少计算时间，并确保高准确率。\n"
   ],
   "id": "e6e3a57aec783311"
  },
  {
   "metadata": {},
   "cell_type": "markdown",
   "source": "### 数据收集与处理\n",
   "id": "eb7a97cbc3b2ca36"
  },
  {
   "cell_type": "code",
   "id": "initial_id",
   "metadata": {
    "collapsed": true,
    "ExecuteTime": {
     "end_time": "2025-05-10T13:25:11.949417Z",
     "start_time": "2025-05-10T13:25:07.893656Z"
    }
   },
   "source": [
    "!pip install pandas==2.2.3\n",
    "!pip install tensorflow\n",
    "!pip install pillow==11.1.0\n",
    "!pip install matplotlib==3.9.2\n",
    "!pip install transformers\n",
    "!pip install torch"
   ],
   "outputs": [
    {
     "name": "stdout",
     "output_type": "stream",
     "text": [
      "Requirement already satisfied: pandas==2.2.3 in /opt/homebrew/anaconda3/envs/colab/lib/python3.11/site-packages (2.2.3)\r\n",
      "Requirement already satisfied: numpy>=1.23.2 in /opt/homebrew/anaconda3/envs/colab/lib/python3.11/site-packages (from pandas==2.2.3) (2.1.3)\r\n",
      "Requirement already satisfied: python-dateutil>=2.8.2 in /opt/homebrew/anaconda3/envs/colab/lib/python3.11/site-packages (from pandas==2.2.3) (2.9.0.post0)\r\n",
      "Requirement already satisfied: pytz>=2020.1 in /opt/homebrew/anaconda3/envs/colab/lib/python3.11/site-packages (from pandas==2.2.3) (2025.2)\r\n",
      "Requirement already satisfied: tzdata>=2022.7 in /opt/homebrew/anaconda3/envs/colab/lib/python3.11/site-packages (from pandas==2.2.3) (2025.2)\r\n",
      "Requirement already satisfied: six>=1.5 in /opt/homebrew/anaconda3/envs/colab/lib/python3.11/site-packages (from python-dateutil>=2.8.2->pandas==2.2.3) (1.17.0)\r\n",
      "Requirement already satisfied: tensorflow in /opt/homebrew/anaconda3/envs/colab/lib/python3.11/site-packages (2.19.0)\r\n",
      "Requirement already satisfied: absl-py>=1.0.0 in /opt/homebrew/anaconda3/envs/colab/lib/python3.11/site-packages (from tensorflow) (2.2.2)\r\n",
      "Requirement already satisfied: astunparse>=1.6.0 in /opt/homebrew/anaconda3/envs/colab/lib/python3.11/site-packages (from tensorflow) (1.6.3)\r\n",
      "Requirement already satisfied: flatbuffers>=24.3.25 in /opt/homebrew/anaconda3/envs/colab/lib/python3.11/site-packages (from tensorflow) (25.2.10)\r\n",
      "Requirement already satisfied: gast!=0.5.0,!=0.5.1,!=0.5.2,>=0.2.1 in /opt/homebrew/anaconda3/envs/colab/lib/python3.11/site-packages (from tensorflow) (0.6.0)\r\n",
      "Requirement already satisfied: google-pasta>=0.1.1 in /opt/homebrew/anaconda3/envs/colab/lib/python3.11/site-packages (from tensorflow) (0.2.0)\r\n",
      "Requirement already satisfied: libclang>=13.0.0 in /opt/homebrew/anaconda3/envs/colab/lib/python3.11/site-packages (from tensorflow) (18.1.1)\r\n",
      "Requirement already satisfied: opt-einsum>=2.3.2 in /opt/homebrew/anaconda3/envs/colab/lib/python3.11/site-packages (from tensorflow) (3.4.0)\r\n",
      "Requirement already satisfied: packaging in /opt/homebrew/anaconda3/envs/colab/lib/python3.11/site-packages (from tensorflow) (24.2)\r\n",
      "Requirement already satisfied: protobuf!=4.21.0,!=4.21.1,!=4.21.2,!=4.21.3,!=4.21.4,!=4.21.5,<6.0.0dev,>=3.20.3 in /opt/homebrew/anaconda3/envs/colab/lib/python3.11/site-packages (from tensorflow) (5.29.4)\r\n",
      "Requirement already satisfied: requests<3,>=2.21.0 in /opt/homebrew/anaconda3/envs/colab/lib/python3.11/site-packages (from tensorflow) (2.32.3)\r\n",
      "Requirement already satisfied: setuptools in /opt/homebrew/anaconda3/envs/colab/lib/python3.11/site-packages (from tensorflow) (75.8.0)\r\n",
      "Requirement already satisfied: six>=1.12.0 in /opt/homebrew/anaconda3/envs/colab/lib/python3.11/site-packages (from tensorflow) (1.17.0)\r\n",
      "Requirement already satisfied: termcolor>=1.1.0 in /opt/homebrew/anaconda3/envs/colab/lib/python3.11/site-packages (from tensorflow) (3.1.0)\r\n",
      "Requirement already satisfied: typing-extensions>=3.6.6 in /opt/homebrew/anaconda3/envs/colab/lib/python3.11/site-packages (from tensorflow) (4.13.2)\r\n",
      "Requirement already satisfied: wrapt>=1.11.0 in /opt/homebrew/anaconda3/envs/colab/lib/python3.11/site-packages (from tensorflow) (1.17.2)\r\n",
      "Requirement already satisfied: grpcio<2.0,>=1.24.3 in /opt/homebrew/anaconda3/envs/colab/lib/python3.11/site-packages (from tensorflow) (1.72.0rc1)\r\n",
      "Requirement already satisfied: tensorboard~=2.19.0 in /opt/homebrew/anaconda3/envs/colab/lib/python3.11/site-packages (from tensorflow) (2.19.0)\r\n",
      "Requirement already satisfied: keras>=3.5.0 in /opt/homebrew/anaconda3/envs/colab/lib/python3.11/site-packages (from tensorflow) (3.9.2)\r\n",
      "Requirement already satisfied: numpy<2.2.0,>=1.26.0 in /opt/homebrew/anaconda3/envs/colab/lib/python3.11/site-packages (from tensorflow) (2.1.3)\r\n",
      "Requirement already satisfied: h5py>=3.11.0 in /opt/homebrew/anaconda3/envs/colab/lib/python3.11/site-packages (from tensorflow) (3.13.0)\r\n",
      "Requirement already satisfied: ml-dtypes<1.0.0,>=0.5.1 in /opt/homebrew/anaconda3/envs/colab/lib/python3.11/site-packages (from tensorflow) (0.5.1)\r\n",
      "Requirement already satisfied: tensorflow-io-gcs-filesystem>=0.23.1 in /opt/homebrew/anaconda3/envs/colab/lib/python3.11/site-packages (from tensorflow) (0.37.1)\r\n",
      "Requirement already satisfied: wheel<1.0,>=0.23.0 in /opt/homebrew/anaconda3/envs/colab/lib/python3.11/site-packages (from astunparse>=1.6.0->tensorflow) (0.45.1)\r\n",
      "Requirement already satisfied: rich in /opt/homebrew/anaconda3/envs/colab/lib/python3.11/site-packages (from keras>=3.5.0->tensorflow) (14.0.0)\r\n",
      "Requirement already satisfied: namex in /opt/homebrew/anaconda3/envs/colab/lib/python3.11/site-packages (from keras>=3.5.0->tensorflow) (0.0.9)\r\n",
      "Requirement already satisfied: optree in /opt/homebrew/anaconda3/envs/colab/lib/python3.11/site-packages (from keras>=3.5.0->tensorflow) (0.15.0)\r\n",
      "Requirement already satisfied: charset-normalizer<4,>=2 in /opt/homebrew/anaconda3/envs/colab/lib/python3.11/site-packages (from requests<3,>=2.21.0->tensorflow) (3.4.1)\r\n",
      "Requirement already satisfied: idna<4,>=2.5 in /opt/homebrew/anaconda3/envs/colab/lib/python3.11/site-packages (from requests<3,>=2.21.0->tensorflow) (3.10)\r\n",
      "Requirement already satisfied: urllib3<3,>=1.21.1 in /opt/homebrew/anaconda3/envs/colab/lib/python3.11/site-packages (from requests<3,>=2.21.0->tensorflow) (2.3.0)\r\n",
      "Requirement already satisfied: certifi>=2017.4.17 in /opt/homebrew/anaconda3/envs/colab/lib/python3.11/site-packages (from requests<3,>=2.21.0->tensorflow) (2025.4.26)\r\n",
      "Requirement already satisfied: markdown>=2.6.8 in /opt/homebrew/anaconda3/envs/colab/lib/python3.11/site-packages (from tensorboard~=2.19.0->tensorflow) (3.8)\r\n",
      "Requirement already satisfied: tensorboard-data-server<0.8.0,>=0.7.0 in /opt/homebrew/anaconda3/envs/colab/lib/python3.11/site-packages (from tensorboard~=2.19.0->tensorflow) (0.7.2)\r\n",
      "Requirement already satisfied: werkzeug>=1.0.1 in /opt/homebrew/anaconda3/envs/colab/lib/python3.11/site-packages (from tensorboard~=2.19.0->tensorflow) (3.1.3)\r\n",
      "Requirement already satisfied: MarkupSafe>=2.1.1 in /opt/homebrew/anaconda3/envs/colab/lib/python3.11/site-packages (from werkzeug>=1.0.1->tensorboard~=2.19.0->tensorflow) (3.0.2)\r\n",
      "Requirement already satisfied: markdown-it-py>=2.2.0 in /opt/homebrew/anaconda3/envs/colab/lib/python3.11/site-packages (from rich->keras>=3.5.0->tensorflow) (3.0.0)\r\n",
      "Requirement already satisfied: pygments<3.0.0,>=2.13.0 in /opt/homebrew/anaconda3/envs/colab/lib/python3.11/site-packages (from rich->keras>=3.5.0->tensorflow) (2.15.1)\r\n",
      "Requirement already satisfied: mdurl~=0.1 in /opt/homebrew/anaconda3/envs/colab/lib/python3.11/site-packages (from markdown-it-py>=2.2.0->rich->keras>=3.5.0->tensorflow) (0.1.2)\r\n",
      "Requirement already satisfied: pillow==11.1.0 in /opt/homebrew/anaconda3/envs/colab/lib/python3.11/site-packages (11.1.0)\r\n",
      "Requirement already satisfied: matplotlib==3.9.2 in /opt/homebrew/anaconda3/envs/colab/lib/python3.11/site-packages (3.9.2)\r\n",
      "Requirement already satisfied: contourpy>=1.0.1 in /opt/homebrew/anaconda3/envs/colab/lib/python3.11/site-packages (from matplotlib==3.9.2) (1.3.1)\r\n",
      "Requirement already satisfied: cycler>=0.10 in /opt/homebrew/anaconda3/envs/colab/lib/python3.11/site-packages (from matplotlib==3.9.2) (0.12.1)\r\n",
      "Requirement already satisfied: fonttools>=4.22.0 in /opt/homebrew/anaconda3/envs/colab/lib/python3.11/site-packages (from matplotlib==3.9.2) (4.57.0)\r\n",
      "Requirement already satisfied: kiwisolver>=1.3.1 in /opt/homebrew/anaconda3/envs/colab/lib/python3.11/site-packages (from matplotlib==3.9.2) (1.4.8)\r\n",
      "Requirement already satisfied: numpy>=1.23 in /opt/homebrew/anaconda3/envs/colab/lib/python3.11/site-packages (from matplotlib==3.9.2) (2.1.3)\r\n",
      "Requirement already satisfied: packaging>=20.0 in /opt/homebrew/anaconda3/envs/colab/lib/python3.11/site-packages (from matplotlib==3.9.2) (24.2)\r\n",
      "Requirement already satisfied: pillow>=8 in /opt/homebrew/anaconda3/envs/colab/lib/python3.11/site-packages (from matplotlib==3.9.2) (11.1.0)\r\n",
      "Requirement already satisfied: pyparsing>=2.3.1 in /opt/homebrew/anaconda3/envs/colab/lib/python3.11/site-packages (from matplotlib==3.9.2) (3.2.3)\r\n",
      "Requirement already satisfied: python-dateutil>=2.7 in /opt/homebrew/anaconda3/envs/colab/lib/python3.11/site-packages (from matplotlib==3.9.2) (2.9.0.post0)\r\n",
      "Requirement already satisfied: six>=1.5 in /opt/homebrew/anaconda3/envs/colab/lib/python3.11/site-packages (from python-dateutil>=2.7->matplotlib==3.9.2) (1.17.0)\r\n",
      "Requirement already satisfied: transformers in /opt/homebrew/anaconda3/envs/colab/lib/python3.11/site-packages (4.38.2)\r\n",
      "Requirement already satisfied: filelock in /opt/homebrew/anaconda3/envs/colab/lib/python3.11/site-packages (from transformers) (3.18.0)\r\n",
      "Requirement already satisfied: huggingface-hub<1.0,>=0.19.3 in /opt/homebrew/anaconda3/envs/colab/lib/python3.11/site-packages (from transformers) (0.30.2)\r\n",
      "Requirement already satisfied: numpy>=1.17 in /opt/homebrew/anaconda3/envs/colab/lib/python3.11/site-packages (from transformers) (2.1.3)\r\n",
      "Requirement already satisfied: packaging>=20.0 in /opt/homebrew/anaconda3/envs/colab/lib/python3.11/site-packages (from transformers) (24.2)\r\n",
      "Requirement already satisfied: pyyaml>=5.1 in /opt/homebrew/anaconda3/envs/colab/lib/python3.11/site-packages (from transformers) (6.0.2)\r\n",
      "Requirement already satisfied: regex!=2019.12.17 in /opt/homebrew/anaconda3/envs/colab/lib/python3.11/site-packages (from transformers) (2024.11.6)\r\n",
      "Requirement already satisfied: requests in /opt/homebrew/anaconda3/envs/colab/lib/python3.11/site-packages (from transformers) (2.32.3)\r\n",
      "Requirement already satisfied: tokenizers<0.19,>=0.14 in /opt/homebrew/anaconda3/envs/colab/lib/python3.11/site-packages (from transformers) (0.15.2)\r\n",
      "Requirement already satisfied: safetensors>=0.4.1 in /opt/homebrew/anaconda3/envs/colab/lib/python3.11/site-packages (from transformers) (0.5.3)\r\n",
      "Requirement already satisfied: tqdm>=4.27 in /opt/homebrew/anaconda3/envs/colab/lib/python3.11/site-packages (from transformers) (4.67.1)\r\n",
      "Requirement already satisfied: fsspec>=2023.5.0 in /opt/homebrew/anaconda3/envs/colab/lib/python3.11/site-packages (from huggingface-hub<1.0,>=0.19.3->transformers) (2025.3.2)\r\n",
      "Requirement already satisfied: typing-extensions>=3.7.4.3 in /opt/homebrew/anaconda3/envs/colab/lib/python3.11/site-packages (from huggingface-hub<1.0,>=0.19.3->transformers) (4.13.2)\r\n",
      "Requirement already satisfied: charset-normalizer<4,>=2 in /opt/homebrew/anaconda3/envs/colab/lib/python3.11/site-packages (from requests->transformers) (3.4.1)\r\n",
      "Requirement already satisfied: idna<4,>=2.5 in /opt/homebrew/anaconda3/envs/colab/lib/python3.11/site-packages (from requests->transformers) (3.10)\r\n",
      "Requirement already satisfied: urllib3<3,>=1.21.1 in /opt/homebrew/anaconda3/envs/colab/lib/python3.11/site-packages (from requests->transformers) (2.3.0)\r\n",
      "Requirement already satisfied: certifi>=2017.4.17 in /opt/homebrew/anaconda3/envs/colab/lib/python3.11/site-packages (from requests->transformers) (2025.4.26)\r\n",
      "Requirement already satisfied: torch in /opt/homebrew/anaconda3/envs/colab/lib/python3.11/site-packages (2.5.0)\r\n",
      "Requirement already satisfied: filelock in /opt/homebrew/anaconda3/envs/colab/lib/python3.11/site-packages (from torch) (3.18.0)\r\n",
      "Requirement already satisfied: typing-extensions>=4.8.0 in /opt/homebrew/anaconda3/envs/colab/lib/python3.11/site-packages (from torch) (4.13.2)\r\n",
      "Requirement already satisfied: networkx in /opt/homebrew/anaconda3/envs/colab/lib/python3.11/site-packages (from torch) (2.8.8)\r\n",
      "Requirement already satisfied: jinja2 in /opt/homebrew/anaconda3/envs/colab/lib/python3.11/site-packages (from torch) (3.1.6)\r\n",
      "Requirement already satisfied: fsspec in /opt/homebrew/anaconda3/envs/colab/lib/python3.11/site-packages (from torch) (2025.3.2)\r\n",
      "Requirement already satisfied: sympy==1.13.1 in /opt/homebrew/anaconda3/envs/colab/lib/python3.11/site-packages (from torch) (1.13.1)\r\n",
      "Requirement already satisfied: mpmath<1.4,>=1.1.0 in /opt/homebrew/anaconda3/envs/colab/lib/python3.11/site-packages (from sympy==1.13.1->torch) (1.3.0)\r\n",
      "Requirement already satisfied: MarkupSafe>=2.0 in /opt/homebrew/anaconda3/envs/colab/lib/python3.11/site-packages (from jinja2->torch) (3.0.2)\r\n"
     ]
    }
   ],
   "execution_count": 2
  },
  {
   "metadata": {
    "ExecuteTime": {
     "end_time": "2025-05-10T13:25:24.741427Z",
     "start_time": "2025-05-10T13:25:24.739430Z"
    }
   },
   "cell_type": "code",
   "source": [
    "import os\n",
    "os.environ['TF_ENABLE_ONEDNN_OPTS'] = '0'\n",
    "os.environ['TF_CPP_MIN_LOG_LEVEL'] = '2'"
   ],
   "id": "b7a81ea24990ba32",
   "outputs": [],
   "execution_count": 3
  },
  {
   "metadata": {},
   "cell_type": "code",
   "outputs": [],
   "execution_count": null,
   "source": [
    "import zipfile\n",
    "import keras\n",
    "from keras.models import Sequential, Model\n",
    "from keras.layers import Dense, Dropout, Flatten\n",
    "from keras.applications import VGG16\n",
    "from keras.optimizers import Adam\n",
    "import tensorflow as tf\n",
    "from tensorflow.keras.preprocessing.image import ImageDataGenerator\n",
    "import matplotlib.pyplot as plt\n",
    "import numpy as np\n",
    "from keras.preprocessing import image\n",
    "import random"
   ],
   "id": "3c3fe8e60d78c32e"
  }
 ],
 "metadata": {
  "kernelspec": {
   "display_name": "Python 3",
   "language": "python",
   "name": "python3"
  },
  "language_info": {
   "codemirror_mode": {
    "name": "ipython",
    "version": 2
   },
   "file_extension": ".py",
   "mimetype": "text/x-python",
   "name": "python",
   "nbconvert_exporter": "python",
   "pygments_lexer": "ipython2",
   "version": "2.7.6"
  }
 },
 "nbformat": 4,
 "nbformat_minor": 5
}
